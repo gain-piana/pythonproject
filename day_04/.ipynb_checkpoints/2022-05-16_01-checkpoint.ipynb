{
 "cells": [
  {
   "cell_type": "code",
   "execution_count": 1,
   "id": "a0fe7bac-3833-4ef7-9abe-4f8645abfdbd",
   "metadata": {},
   "outputs": [
    {
     "name": "stdin",
     "output_type": "stream",
     "text": [
      "\n",
      "    다음 중에서 하실 일을 골라주세요 :\n",
      "    I - 고객 정보 입력\n",
      "    C - 현재 고객 정보 조회\n",
      "    P - 이전 고객 정보 조회\n",
      "    N - 다음 고객 정보 조회\n",
      "    U - 고객 정보 수정\n",
      "    D - 고객 정보 삭제\n",
      "    Q - 프로그램 종료\n",
      "     q\n"
     ]
    }
   ],
   "source": [
    "# 콘솔형 고객 정보 관리 시스템 구축\n",
    "\n",
    "# 1. 기능  \n",
    "# 고객 정보 입력(I), 현재/이전/다음 고객 정보 조회(C/P/N), 고객 정보 수정(U), 고객 정보 삭제(D), 고객 정보 종료(Q)\n",
    "\n",
    "# - 괄호 안 영문자를 입력하면 각 기능이 구현되게 만든다\n",
    "# - 종료(Q)를 입력하기 전까지 기능 선택 메시지가 계속 뜨도록 만든다\n",
    "# - 각 기능은 함수로 관리한다\n",
    "# - 입력된 각 정보는 인덱스 값에 따라 페이지를 가진다\n",
    "#   -> 첫 정보 입력 시 인덱스는 0이므로, 입력 전 기본 page 값은 -1로 설정한다\n",
    "\n",
    "# 2. 입력(I)\n",
    "# - dictionary로 각 키의 값을 받고 빈 리스트에 채워나간다\n",
    "# - 성별(gender) : M, m, F, f로만 입력 가능\n",
    "#   -> 소문자로 입력하는 경우 대문자로 자동 변환\n",
    "#   -> gender 값이 M 또는 F가 아닐 경우 다시 입력\n",
    "# - 이메일(email) : 입력값 내 '@'가 반드시 있어야 함\n",
    "#   -> 정규표현식 사용\n",
    "#   -> re를 import 하여 이메일 입력값 내 '@' 존재 여부 파악\n",
    "#   -> 없는 경우 '@'를 포함하라는 문구와 함께 재입력 하도록 함\n",
    "# - 출생년도(birthyear) : 4자리로 입력 해야\n",
    "#   -> len 값으로 입력 값의 길이를 구함\n",
    "#   -> 4자리가 아닐 경우 재입력 하도록 함\n",
    "# - 출생년도까지 입력이 완료되었을 경우\n",
    "#   -> 키 값 입력이 완료된 customer 딕셔너리를 custlist 리스트에 추가(append)한다\n",
    "#   -> 고객 정보가 새로 입력 되었으므로 page 값에 1을 더한다\n",
    "\n",
    "# 3. 조회(C, P, N)\n",
    "# - 인덱스는 0부터 시작하나 페이지는 통상 1부터 시작하므로 페이지 출력시 page+1 값을 반환한다\n",
    "# - 이전 페이지 조회(P)의 경우, 첫 번 째 페이지인 상태에서 이전 페이지로 이동이 불가하므로 현재 페이지인 첫 번 째 페이지를 반환\n",
    "# - 다음 페이지 조회(N)의 경우, 마지막 페이지인 상태에서 다음 페이지로 이동이 불가하므로 현재 페이지인 마지막 페이지를 반환\n",
    "\n",
    "# 4. 삭제(D)\n",
    "# - unique한 키를 기준으로 삭제정보를 선택한다 -> 여기서는 이메일로 가정\n",
    "# - 삭제 성공 여부 변수(delok)\n",
    "#   -> 입력한 이메일이 등록된 정보 내에 있을 경우 삭제\n",
    "#   -> 삭제가 성공하면 delok=1 (default 값 0)\n",
    "#   -> 등록된 정보 내에 없는 이메일일 경우(delok=0) 등록되지 않았다고 출력\n",
    "\n",
    "# 5. 수정(U)\n",
    "# - unique한 키를 기준으로 수정 정보를 선택한다 -> 여기서는 이메일로 가정\n",
    "# - 입력한 이메일과 일치하는 고객 정보의 인덱스를 idx에 입력\n",
    "#   -> idx의 default 값은 -1\n",
    "#   -> 일치 여부 확인 후에도 idx가 -1일 경우 등록되지 않았다고 출력\n",
    "# - 이메일 외에 이름, 성별, 출생년도 중 수정할 정보 선택\n",
    "# - 수정할 정보 선택 후 수정할 내용 입력\n",
    "# - 수정하고 픈 변수가 없는 경우 exit 입력 시 수정 창 종료\n",
    "\n",
    "# 6. 종료(Q)\n",
    "# - 맨 처음 while 반복문을 나간다 -> break\n",
    "\n",
    "\n",
    "import re\n",
    "custlist=[]\n",
    "page=-1\n",
    "custlist=[{'name': '홍길동', 'gender': 'M', 'email': 'hong123@gmail.com', 'birthyear': '2000'},\n",
    "          {'name': '박철수', 'gender': 'M', 'email': 'park01@gmail.com', 'birthyear': '2002'},\n",
    "          {'name': '김나리', 'gender': 'F', 'email': 'kim123@gmail.com', 'birthyear': '1999'} ]\n",
    "page = 2 \n",
    "while True:\n",
    "    choice=input('''\n",
    "    다음 중에서 하실 일을 골라주세요 :\n",
    "    I - 고객 정보 입력\n",
    "    C - 현재 고객 정보 조회\n",
    "    P - 이전 고객 정보 조회\n",
    "    N - 다음 고객 정보 조회\n",
    "    U - 고객 정보 수정\n",
    "    D - 고객 정보 삭제\n",
    "    Q - 프로그램 종료\n",
    "    ''').upper()  \n",
    "\n",
    "    if choice==\"I\":  \n",
    "        pass\n",
    "    elif choice==\"C\": \n",
    "        if page < 0:\n",
    "            page += 1\n",
    "            print('입력된 정보가 없습니다.')\n",
    "        else:    \n",
    "            print(f'현재 페이지는 {page+1}페이지 입니다.')\n",
    "            print(custlist[page])\n",
    "\n",
    "    elif choice == 'P':\n",
    "        page -= 1\n",
    "        if page < 0:\n",
    "            page += 1\n",
    "            print('입력된 정보가 없습니다.')\n",
    "        else:    \n",
    "            print(f'현재 페이지는 {page+1}페이지 입니다.')\n",
    "            print(custlist[page])\n",
    "\n",
    "    elif choice == 'N':\n",
    "        page += 1\n",
    "        if page >= len(custlist):\n",
    "            page -= 1\n",
    "            print('입력된 정보가 없습니다.')\n",
    "        else:    \n",
    "            print(f'현재 페이지는 {page+1}페이지 입니다.')\n",
    "            print(custlist[page])\n",
    "    elif choice=='D':\n",
    "        pass\n",
    "    elif choice==\"U\": \n",
    "        pass\n",
    "    elif choice==\"Q\":\n",
    "        break"
   ]
  },
  {
   "cell_type": "code",
   "execution_count": 3,
   "id": "949f406b-e0ae-4124-85c4-f561775e31be",
   "metadata": {},
   "outputs": [
    {
     "data": {
      "text/plain": [
       "int"
      ]
     },
     "execution_count": 3,
     "metadata": {},
     "output_type": "execute_result"
    }
   ],
   "source": [
    "type(len(custlist))"
   ]
  },
  {
   "cell_type": "code",
   "execution_count": 31,
   "id": "d19fe301-c1ef-4b2a-8624-01b1c507dd14",
   "metadata": {},
   "outputs": [
    {
     "name": "stdin",
     "output_type": "stream",
     "text": [
      "\n",
      "    다음 중에서 하실 일을 골라주세요 :\n",
      "    I - 고객 정보 입력\n",
      "    C - 현재 고객 정보 조회\n",
      "    P - 이전 고객 정보 조회\n",
      "    N - 다음 고객 정보 조회\n",
      "    U - 고객 정보 수정\n",
      "    D - 고객 정보 삭제\n",
      "    Q - 프로그램 종료\n",
      "     u\n"
     ]
    },
    {
     "name": "stdout",
     "output_type": "stream",
     "text": [
      "[{'name': '홍길동', 'gender': 'M', 'email': 'hong123@gmail.com', 'birthyear': '2000'}, {'name': '박철수', 'gender': 'M', 'email': 'park01@gmail.com', 'birthyear': '2002'}, {'name': '김나리', 'gender': 'F', 'email': 'kim123@gmail.com', 'birthyear': '1999'}]\n"
     ]
    },
    {
     "name": "stdin",
     "output_type": "stream",
     "text": [
      "수정하려는 이메일 주소를 입력하세요. >>>  hong123@gmail.com\n",
      "\n",
      "----------------------------------------\n",
      "다음 중 수정할 항목을 선택하세요(종료:exit)\n",
      "- name, gender, birthyear 중 입력\n",
      "----------------------------------------\n",
      "항목 >>>  name\n",
      "수정할 name를 입력하세요. >>> 홍동\n"
     ]
    },
    {
     "name": "stdout",
     "output_type": "stream",
     "text": [
      "{'name': '홍동', 'gender': 'M', 'email': 'hong123@gmail.com', 'birthyear': '2000'}\n"
     ]
    },
    {
     "name": "stdin",
     "output_type": "stream",
     "text": [
      "\n",
      "    다음 중에서 하실 일을 골라주세요 :\n",
      "    I - 고객 정보 입력\n",
      "    C - 현재 고객 정보 조회\n",
      "    P - 이전 고객 정보 조회\n",
      "    N - 다음 고객 정보 조회\n",
      "    U - 고객 정보 수정\n",
      "    D - 고객 정보 삭제\n",
      "    Q - 프로그램 종료\n",
      "     ㅂ\n",
      "\n",
      "    다음 중에서 하실 일을 골라주세요 :\n",
      "    I - 고객 정보 입력\n",
      "    C - 현재 고객 정보 조회\n",
      "    P - 이전 고객 정보 조회\n",
      "    N - 다음 고객 정보 조회\n",
      "    U - 고객 정보 수정\n",
      "    D - 고객 정보 삭제\n",
      "    Q - 프로그램 종료\n",
      "     q\n"
     ]
    },
    {
     "name": "stdout",
     "output_type": "stream",
     "text": [
      "프로그램을 종료합니다.\n"
     ]
    }
   ],
   "source": [
    "# 콘솔형 고객 정보 관리 시스템 구축\n",
    "\n",
    "# 1. 기능  \n",
    "# 고객 정보 입력(I), 현재/이전/다음 고객 정보 조회(C/P/N), 고객 정보 수정(U), 고객 정보 삭제(D), 고객 정보 종료(Q)\n",
    "\n",
    "# - 괄호 안 영문자를 입력하면 각 기능이 구현되게 만든다\n",
    "# - 종료(Q)를 입력하기 전까지 기능 선택 메시지가 계속 뜨도록 만든다\n",
    "# - 각 기능은 함수로 관리한다\n",
    "# - 입력된 각 정보는 인덱스 값에 따라 페이지를 가진다\n",
    "#   -> 첫 정보 입력 시 인덱스는 0이므로, 입력 전 기본 page 값은 -1로 설정한다\n",
    "\n",
    "# 2. 입력(I)\n",
    "# - dictionary로 각 키의 값을 받고 빈 리스트에 채워나간다\n",
    "# - 성별(gender) : M, m, F, f로만 입력 가능\n",
    "#   -> 소문자로 입력하는 경우 대문자로 자동 변환\n",
    "#   -> gender 값이 M 또는 F가 아닐 경우 다시 입력\n",
    "# - 이메일(email) : 입력값 내 '@'가 반드시 있어야 함\n",
    "#   -> 정규표현식 사용\n",
    "#   -> re를 import 하여 이메일 입력값 내 '@' 존재 여부 파악\n",
    "#   -> 없는 경우 '@'를 포함하라는 문구와 함께 재입력 하도록 함\n",
    "# - 출생년도(birthyear) : 4자리로 입력 해야\n",
    "#   -> len 값으로 입력 값의 길이를 구함\n",
    "#   -> 4자리가 아닐 경우 재입력 하도록 함\n",
    "# - 출생년도까지 입력이 완료되었을 경우\n",
    "#   -> 키 값 입력이 완료된 customer 딕셔너리를 custlist 리스트에 추가(append)한다\n",
    "#   -> 고객 정보가 새로 입력 되었으므로 page 값에 1을 더한다\n",
    "#   -> 중복된 이메일 입력 방지\n",
    "\n",
    "# 3. 조회(C, P, N)\n",
    "# - 인덱스는 0부터 시작하나 페이지는 통상 1부터 시작하므로 페이지 출력시 page+1 값을 반환한다\n",
    "# - 이전 페이지 조회(P)의 경우, 첫 번 째 페이지인 상태에서 이전 페이지로 이동이 불가하므로 현재 페이지인 첫 번 째 페이지를 반환\n",
    "# - 다음 페이지 조회(N)의 경우, 마지막 페이지인 상태에서 다음 페이지로 이동이 불가하므로 현재 페이지인 마지막 페이지를 반환\n",
    "\n",
    "# 4. 삭제(D)\n",
    "# - unique한 키를 기준으로 삭제정보를 선택한다 -> 여기서는 이메일로 가정\n",
    "# - 삭제 성공 여부 변수(delok)\n",
    "#   -> 입력한 이메일이 등록된 정보 내에 있을 경우 삭제\n",
    "#   -> 삭제가 성공하면 delok=1 (default 값 0)\n",
    "#   -> 등록된 정보 내에 없는 이메일일 경우(delok=0) 등록되지 않았다고 출력\n",
    "\n",
    "# 5. 수정(U)\n",
    "# - unique한 키를 기준으로 수정 정보를 선택한다 -> 여기서는 이메일로 가정\n",
    "# - 입력한 이메일과 일치하는 고객 정보의 인덱스를 idx에 입력\n",
    "#   -> idx의 default 값은 -1\n",
    "#   -> 일치 여부 확인 후에도 idx가 -1일 경우 등록되지 않았다고 출력\n",
    "# - 이메일 외에 이름, 성별, 출생년도 중 수정할 정보 선택\n",
    "# - 수정할 정보 선택 후 수정할 내용 입력\n",
    "# - 수정하고 픈 변수가 없는 경우 exit 입력 시 수정 창 종료\n",
    "\n",
    "# 6. 종료(Q)\n",
    "# - 맨 처음 while 반복문을 나간다 -> break\n",
    "\n",
    "\n",
    "import re\n",
    "\n",
    "custlist=[]\n",
    "page=-1\n",
    "custlist=[{'name': '홍길동', 'gender': 'M', 'email': 'hong123@gmail.com', 'birthyear': '2000'},\n",
    "          {'name': '박철수', 'gender': 'M', 'email': 'park01@gmail.com', 'birthyear': '2002'},\n",
    "          {'name': '김나리', 'gender': 'F', 'email': 'kim123@gmail.com', 'birthyear': '1999'} ]\n",
    "page = 2 \n",
    "while True:\n",
    "    choice=input('''\n",
    "    다음 중에서 하실 일을 골라주세요 :\n",
    "    I - 고객 정보 입력\n",
    "    C - 현재 고객 정보 조회\n",
    "    P - 이전 고객 정보 조회\n",
    "    N - 다음 고객 정보 조회\n",
    "    U - 고객 정보 수정\n",
    "    D - 고객 정보 삭제\n",
    "    Q - 프로그램 종료\n",
    "    ''').upper()  \n",
    "\n",
    "    if choice==\"I\":  \n",
    "        customer = {'name': '', 'gender': '', 'email': '', 'birthyear': ''}\n",
    "        customer['name'] = input('이름 >>> ')\n",
    "        while True:\n",
    "            customer['gender'] = input('성별(M,F) >>> ').upper()\n",
    "            if customer['gender'] in ('M','F'):\n",
    "                break\n",
    "        \n",
    "        while True:\n",
    "            while True:\n",
    "                customer['email'] = input('email >>> ')\n",
    "                if customer['email'].find('@') != -1:\n",
    "                    break\n",
    "                else:\n",
    "                    print('이메일을 정확하게 입력하세요.')\n",
    "            check = 0\n",
    "            for i in custlist:\n",
    "                if i['email'] == customer['email']:\n",
    "                    check = 1\n",
    "                    break\n",
    "            if check == 0:\n",
    "                break\n",
    "            print('중복되는 이메일이 있습니다.')\n",
    "        \n",
    "        while True:\n",
    "            customer['birthyear'] = input('생년월일(4자리) >>> ')\n",
    "            if len(customer['birthyear']) == 4 and customer['birthyear'].isdecimal():\n",
    "                break\n",
    "        \n",
    "        custlist.append(customer)\n",
    "        page = len(custlist)-1\n",
    "        print(custlist)\n",
    "\n",
    "\n",
    "    elif choice==\"C\": \n",
    "        if page < 0:\n",
    "            page += 1\n",
    "            print('입력된 정보가 없습니다.')\n",
    "        else:    \n",
    "            print(f'현재 페이지는 {page+1}페이지 입니다.')\n",
    "            print(custlist[page])\n",
    "\n",
    "    elif choice == 'P':\n",
    "        if page <= 0:\n",
    "            print('첫번째 페이지 입니다.')\n",
    "        else:    \n",
    "            page -= 1\n",
    "            print(custlist[page])\n",
    "        print(f'현재 페이지는 {page+1}페이지 입니다.')\n",
    "\n",
    "    elif choice == 'N':\n",
    "        if page >= len(custlist)-1:\n",
    "            print('마지막 페이지 입니다.')\n",
    "        else:    \n",
    "            page += 1\n",
    "            print(custlist[page])\n",
    "        print(f'현재 페이지는 {page+1}페이지 입니다.')\n",
    "        \n",
    "    elif choice == 'D':\n",
    "        print(custlist)\n",
    "        choice1 =input('삭제하려는 이메일 주소를 입력하세요. >>> ')\n",
    "        delok = 0\n",
    "        for i in range(len(custlist)):\n",
    "            if custlist[i]['email'] == choice1:\n",
    "                print(f\"{custlist[i]['name']}님의 정보가 삭제되었습니다.\") #같은 따옴표를 두 번 쓸수는 없으므로.\n",
    "                del custlist[i]\n",
    "                delok = 1\n",
    "                break\n",
    "        if delok == 0:\n",
    "            print('등록되지 않은 고객정보 입니다.')\n",
    "        print(custlist)\n",
    "                \n",
    "    elif choice == \"U\": \n",
    "        while True:\n",
    "            print(custlist)\n",
    "            choice1 =input('수정하려는 이메일 주소를 입력하세요. >>> ')\n",
    "            idx = -1\n",
    "            for i in range(len(custlist)):\n",
    "                if custlist[i]['email'] == choice1:\n",
    "                    idx = i\n",
    "                    break\n",
    "            if idx == -1:\n",
    "                print('등록되지 않은 고객정보 입니다.')\n",
    "                break\n",
    "            \n",
    "            choice2 = input('''\n",
    "----------------------------------------\n",
    "다음 중 수정할 항목을 선택하세요(종료:exit)\n",
    "- name, gender, birthyear 중 입력\n",
    "----------------------------------------\n",
    "항목 >>> ''')\n",
    "            if choice2 in ('name','gender','birthyear'): ###몰랐던 부분\n",
    "                custlist[idx][choice2] = input(f'수정할 {choice2}를 입력하세요. >>>')\n",
    "                print(custlist[idx])\n",
    "                break\n",
    "            \n",
    "            elif choice2 == 'exit':\n",
    "                break\n",
    "            else:\n",
    "                print('존재하지 않는 정보입니다.')\n",
    "                break\n",
    "            \n",
    "    elif choice == \"Q\":\n",
    "        print('프로그램을 종료합니다.')\n",
    "        break"
   ]
  },
  {
   "cell_type": "code",
   "execution_count": 10,
   "id": "88253ab3-adce-4985-b808-5e4c795b5e84",
   "metadata": {},
   "outputs": [
    {
     "data": {
      "text/plain": [
       "'hong123@gmail.com'"
      ]
     },
     "execution_count": 10,
     "metadata": {},
     "output_type": "execute_result"
    }
   ],
   "source": [
    "custlist[0]['email']"
   ]
  },
  {
   "cell_type": "code",
   "execution_count": 16,
   "id": "11ed5c9b-103f-4dbd-bd23-caa97f4f60d1",
   "metadata": {},
   "outputs": [
    {
     "data": {
      "text/plain": [
       "3"
      ]
     },
     "execution_count": 16,
     "metadata": {},
     "output_type": "execute_result"
    }
   ],
   "source": [
    "len(custlist)"
   ]
  },
  {
   "cell_type": "code",
   "execution_count": 25,
   "id": "915c4141-1be0-43d3-a1fa-ec6a469fa629",
   "metadata": {},
   "outputs": [
    {
     "data": {
      "text/plain": [
       "'kim123@gmail.com'"
      ]
     },
     "execution_count": 25,
     "metadata": {},
     "output_type": "execute_result"
    }
   ],
   "source": [
    "maillist"
   ]
  },
  {
   "cell_type": "code",
   "execution_count": null,
   "id": "6f69d8be-0499-468f-a75e-fdb1c86b7f0b",
   "metadata": {},
   "outputs": [],
   "source": []
  }
 ],
 "metadata": {
  "kernelspec": {
   "display_name": "Python 3 (ipykernel)",
   "language": "python",
   "name": "python3"
  },
  "language_info": {
   "codemirror_mode": {
    "name": "ipython",
    "version": 3
   },
   "file_extension": ".py",
   "mimetype": "text/x-python",
   "name": "python",
   "nbconvert_exporter": "python",
   "pygments_lexer": "ipython3",
   "version": "3.9.7"
  }
 },
 "nbformat": 4,
 "nbformat_minor": 5
}
