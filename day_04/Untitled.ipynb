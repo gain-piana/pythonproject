{
 "cells": [
  {
   "cell_type": "code",
   "execution_count": null,
   "id": "50edcb31-fefe-4e9e-89a0-ba75d53fd209",
   "metadata": {},
   "outputs": [
    {
     "name": "stdin",
     "output_type": "stream",
     "text": [
      "\n",
      "        다음 중에서 하실 일을 골라주세요 :\n",
      "        I - 입력\n",
      "        S - 판매\n",
      "        C - 재고리스트\n",
      "        D - 삭제\n",
      "         c\n"
     ]
    },
    {
     "name": "stdout",
     "output_type": "stream",
     "text": [
      "------ 재고리스트 ------\n",
      "price : 3000\n",
      "name : 사과\n",
      "cnt : 5\n",
      "price : 4000\n",
      "name : 포도\n",
      "cnt : 20\n",
      "price : 10000\n",
      "name : 수박\n",
      "cnt : 5\n"
     ]
    }
   ],
   "source": [
    "fruitlist=[{'name': '사과', 'price': 3000, 'cnt': 5},\n",
    "          {'name': '포도', 'price': 4000, 'cnt': 20},\n",
    "          {'name': '수박', 'price': 10000, 'cnt': 5} ]\n",
    "\n",
    "\n",
    "while True:\n",
    "    choice=input('''\n",
    "        다음 중에서 하실 일을 골라주세요 :\n",
    "        I - 입력\n",
    "        S - 판매\n",
    "        C - 재고리스트\n",
    "        D - 삭제\n",
    "        ''').upper()\n",
    "\n",
    "    if choice==\"I\":  \n",
    "        fruit = {'name': '', 'price': 0, 'cnt': 0} #체크\n",
    "        while True:\n",
    "            while True:\n",
    "                fruit['name'] = input('과일 이름 >>> ')\n",
    "                if fruit['name'].isalpha():\n",
    "                    break\n",
    "                else:\n",
    "                    print('과일 이름을 정확하게 입력하세요.')\n",
    "            check = 0\n",
    "            for i in fruitlist:\n",
    "                if i['name'] == fruit['name']:\n",
    "                    check = 1\n",
    "                    break\n",
    "            if check == 0:\n",
    "                break\n",
    "            print('중복되는 과일 이름이 있습니다.')\n",
    "\n",
    "        fruit['price'] = int(input('가격 >>> '))\n",
    "\n",
    "        fruit['cnt'] = int(input('수량 >>> '))\n",
    "        \n",
    "            \n",
    "        fruitlist.append(fruit)\n",
    "        page = len(fruitlist)-1\n",
    "        print(fruitlist)\n",
    "    \n",
    "    elif choice == 'C':\n",
    "        print('------ 재고리스트 ------')\n",
    "        for i in range(len(fruitlist)):\n",
    "            for item in sorted(fruitlist[i].items(),key=lambda x:x[0],reverse=True):\n",
    "                print(f'{item[0]} : {item[1]:}')\n",
    "   \n",
    "    elif choice==\"S\": \n",
    "        while True:\n",
    "            print(\"----------판매항목--------------\")\n",
    "            print(fruitlist)\n",
    "            choice1 = input('어떤 항목을 판매할까요?')\n",
    "            choice2=  int(input('몇 개를 판매할까요?'))\n",
    "            for i in range(len(fruitlist)):\n",
    "                if fruitlist[i]['name'] == choice1:\n",
    "                    print(fruitlist[i]['name'], \" 항목을 판매합니다.\")\n",
    "                    fruitlist[i]['cnt'] -= choice2\n",
    "\n",
    "            print(\"추가적으로 판매하실 항목이 있으십니까?\")\n",
    "            sale_ans= input(\"Y/N \").upper()\n",
    "            if sale_ans == 'Y':\n",
    "                choice1 = input('어떤 항목을 판매할까요? ')\n",
    "                choice2 =  int(input('몇 개를 판매할까요?'))\n",
    "                for i in range(len(fruitlist)):\n",
    "                    if fruitlist[i]['name'] == choice1:\n",
    "                        print(fruitlist[i]['name'], \" 항목을 판매합니다.\")\n",
    "                        fruitlist[i]['cnt'] -=choice2\n",
    "                        print(\"판매를 종료합니다.\")\n",
    "                        break\n",
    "            else :\n",
    "                break\n",
    "\n",
    "    elif choice == 'D':\n",
    "        print(fruitlist)\n",
    "        choice1 =input('삭제하려는 과일 이름을 입력하세요. >>> ')\n",
    "        delok = 0\n",
    "        for i in range(len(fruitlist)):\n",
    "            if fruitlist[i]['name'] == choice1:\n",
    "                print(f\"{fruitlist[i]['name']}의 과일이 삭제되었습니다.\")\n",
    "                del fruitlist[i]\n",
    "                delok = 1\n",
    "                break\n",
    "        if delok == 0:\n",
    "            print('등록되지 않은 과일정보 입니다.')\n",
    "        print(fruitlist)"
   ]
  },
  {
   "cell_type": "code",
   "execution_count": null,
   "id": "512fd11b-4c9d-4d1a-980a-48f22e6cbb4b",
   "metadata": {},
   "outputs": [],
   "source": []
  },
  {
   "cell_type": "code",
   "execution_count": 19,
   "id": "4f1b11ed-dbf6-4aef-b626-af1729346db8",
   "metadata": {},
   "outputs": [
    {
     "data": {
      "text/plain": [
       "3"
      ]
     },
     "execution_count": 19,
     "metadata": {},
     "output_type": "execute_result"
    }
   ],
   "source": [
    "len(fruitlist)"
   ]
  },
  {
   "cell_type": "code",
   "execution_count": 15,
   "id": "e08aed3e-0f1f-43cd-904c-1b75a6c44e31",
   "metadata": {},
   "outputs": [
    {
     "data": {
      "text/plain": [
       "dict"
      ]
     },
     "execution_count": 15,
     "metadata": {},
     "output_type": "execute_result"
    }
   ],
   "source": [
    "type(fruitlist[0])"
   ]
  },
  {
   "cell_type": "code",
   "execution_count": 7,
   "id": "63d7c230-6dd0-4c73-a30e-f9042de7b0aa",
   "metadata": {},
   "outputs": [
    {
     "data": {
      "text/plain": [
       "'ㄷㄷ'"
      ]
     },
     "execution_count": 7,
     "metadata": {},
     "output_type": "execute_result"
    }
   ],
   "source": [
    "fruit['cnt'].isdeci"
   ]
  },
  {
   "cell_type": "code",
   "execution_count": null,
   "id": "d6377833-91da-4d34-9610-94dd53735a38",
   "metadata": {},
   "outputs": [],
   "source": []
  }
 ],
 "metadata": {
  "kernelspec": {
   "display_name": "Python 3 (ipykernel)",
   "language": "python",
   "name": "python3"
  },
  "language_info": {
   "codemirror_mode": {
    "name": "ipython",
    "version": 3
   },
   "file_extension": ".py",
   "mimetype": "text/x-python",
   "name": "python",
   "nbconvert_exporter": "python",
   "pygments_lexer": "ipython3",
   "version": "3.9.7"
  }
 },
 "nbformat": 4,
 "nbformat_minor": 5
}
