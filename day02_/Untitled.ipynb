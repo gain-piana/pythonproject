{
 "cells": [
  {
   "cell_type": "code",
   "execution_count": 16,
   "id": "cd9eb142-2f89-44e5-8180-cc9dbb14fb8f",
   "metadata": {},
   "outputs": [
    {
     "ename": "ModuleNotFoundError",
     "evalue": "No module named 'function_fruitlist'",
     "output_type": "error",
     "traceback": [
      "\u001b[1;31m---------------------------------------------------------------------------\u001b[0m",
      "\u001b[1;31mModuleNotFoundError\u001b[0m                       Traceback (most recent call last)",
      "\u001b[1;32m~\\AppData\\Local\\Temp/ipykernel_5164/1882540938.py\u001b[0m in \u001b[0;36m<module>\u001b[1;34m\u001b[0m\n\u001b[0;32m      3\u001b[0m           {'name': '수박', 'price': 10000, 'cnt': 5} ]\n\u001b[0;32m      4\u001b[0m \u001b[1;33m\u001b[0m\u001b[0m\n\u001b[1;32m----> 5\u001b[1;33m \u001b[1;32mimport\u001b[0m \u001b[0mfunction_fruitlist\u001b[0m \u001b[1;32mas\u001b[0m \u001b[0mff\u001b[0m\u001b[1;33m\u001b[0m\u001b[1;33m\u001b[0m\u001b[0m\n\u001b[0m\u001b[0;32m      6\u001b[0m \u001b[0mSUM\u001b[0m\u001b[1;33m=\u001b[0m\u001b[1;36m0\u001b[0m\u001b[1;33m\u001b[0m\u001b[1;33m\u001b[0m\u001b[0m\n\u001b[0;32m      7\u001b[0m \u001b[1;32mwhile\u001b[0m \u001b[1;32mTrue\u001b[0m\u001b[1;33m:\u001b[0m\u001b[1;33m\u001b[0m\u001b[1;33m\u001b[0m\u001b[0m\n",
      "\u001b[1;31mModuleNotFoundError\u001b[0m: No module named 'function_fruitlist'"
     ]
    }
   ],
   "source": [
    "fruitlist=[{'name': '사과', 'price': 3000, 'cnt': 5},\n",
    "          {'name': '포도', 'price': 4000, 'cnt': 20},\n",
    "          {'name': '수박', 'price': 10000, 'cnt': 5} ]\n",
    "\n",
    "import function_fruitlist as ff\n",
    "SUM=0\n",
    "while True:\n",
    "    choice=input('''\n",
    "        다음 중에서 하실 일을 골라주세요 :\n",
    "        I - 입력\n",
    "        S - 판매\n",
    "        C - 재고리스트\n",
    "        D - 삭제\n",
    "        Q - 종료\n",
    "        ''').upper()\n",
    "\n",
    "    if choice==\"I\":\n",
    "        ff.fruit_input(fruitlist)\n",
    "\n",
    "    elif choice==\"S\": \n",
    "        SUM= ff.fruit_s(fruitlist,SUM)\n",
    "\n",
    "    elif choice == 'C':\n",
    "        ff.fruit_c(fruitlist)     \n",
    "\n",
    "    elif choice == 'D':\n",
    "        ff.fruit_d(fruitlist)\n",
    "\n",
    "    elif choice == \"Q\":\n",
    "        print('프로그램을 종료합니다.')\n",
    "        break"
   ]
  },
  {
   "cell_type": "code",
   "execution_count": null,
   "id": "aee5e8f2-d6f7-4d57-8770-4cd575ae3b04",
   "metadata": {},
   "outputs": [],
   "source": []
  },
  {
   "cell_type": "code",
   "execution_count": null,
   "id": "d15ae77b-d8d3-4d24-92da-2ba545fc21ff",
   "metadata": {},
   "outputs": [],
   "source": []
  },
  {
   "cell_type": "code",
   "execution_count": null,
   "id": "6a1068d7-ead1-4983-becc-e0811e711484",
   "metadata": {},
   "outputs": [],
   "source": []
  },
  {
   "cell_type": "code",
   "execution_count": null,
   "id": "1299a9be-6340-4c32-ada6-d4f2d7fec9d6",
   "metadata": {},
   "outputs": [],
   "source": []
  },
  {
   "cell_type": "code",
   "execution_count": null,
   "id": "c6ed88d5-c0d9-4999-8923-443b12d00708",
   "metadata": {},
   "outputs": [],
   "source": []
  },
  {
   "cell_type": "code",
   "execution_count": null,
   "id": "13d32292-346e-4070-be19-189c680e8c54",
   "metadata": {},
   "outputs": [],
   "source": []
  },
  {
   "cell_type": "code",
   "execution_count": null,
   "id": "9e9b9a72-8f30-4152-bc00-a67f4497a504",
   "metadata": {},
   "outputs": [],
   "source": []
  },
  {
   "cell_type": "code",
   "execution_count": 4,
   "id": "3b2dbf0f-5e75-4aa4-8dc6-427188ad4633",
   "metadata": {},
   "outputs": [
    {
     "data": {
      "text/plain": [
       "[{'name': '사과', 'price': 3000, 'cnt': 5},\n",
       " {'name': '포도', 'price': 4000, 'cnt': 20},\n",
       " {'name': '수박', 'price': 10000, 'cnt': 5}]"
      ]
     },
     "execution_count": 4,
     "metadata": {},
     "output_type": "execute_result"
    }
   ],
   "source": [
    "fruitlist"
   ]
  },
  {
   "cell_type": "code",
   "execution_count": 5,
   "id": "58d967da-101f-498a-b9ae-e9abc881ab76",
   "metadata": {},
   "outputs": [
    {
     "name": "stdout",
     "output_type": "stream",
     "text": [
      "{'name': '사과', 'price': 3000, 'cnt': 5}\n",
      "{'name': '포도', 'price': 4000, 'cnt': 20}\n",
      "{'name': '수박', 'price': 10000, 'cnt': 5}\n"
     ]
    }
   ],
   "source": [
    "for i in fruitlist:\n",
    "    print(i)"
   ]
  },
  {
   "cell_type": "code",
   "execution_count": 7,
   "id": "d995b6ef-7a87-4f43-a389-6c67bf034b29",
   "metadata": {},
   "outputs": [
    {
     "data": {
      "text/plain": [
       "'수박'"
      ]
     },
     "execution_count": 7,
     "metadata": {},
     "output_type": "execute_result"
    }
   ],
   "source": [
    "i['name']"
   ]
  },
  {
   "cell_type": "code",
   "execution_count": null,
   "id": "5d43814d-e439-4ec2-a03b-ced2a57bf878",
   "metadata": {},
   "outputs": [],
   "source": []
  }
 ],
 "metadata": {
  "kernelspec": {
   "display_name": "Python 3 (ipykernel)",
   "language": "python",
   "name": "python3"
  },
  "language_info": {
   "codemirror_mode": {
    "name": "ipython",
    "version": 3
   },
   "file_extension": ".py",
   "mimetype": "text/x-python",
   "name": "python",
   "nbconvert_exporter": "python",
   "pygments_lexer": "ipython3",
   "version": "3.9.7"
  }
 },
 "nbformat": 4,
 "nbformat_minor": 5
}
