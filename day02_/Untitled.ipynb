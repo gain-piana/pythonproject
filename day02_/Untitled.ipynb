{
 "cells": [
  {
   "cell_type": "code",
   "execution_count": 16,
   "id": "cd9eb142-2f89-44e5-8180-cc9dbb14fb8f",
   "metadata": {},
   "outputs": [
    {
     "ename": "ModuleNotFoundError",
     "evalue": "No module named 'function_fruitlist'",
     "output_type": "error",
     "traceback": [
      "\u001b[1;31m---------------------------------------------------------------------------\u001b[0m",
      "\u001b[1;31mModuleNotFoundError\u001b[0m                       Traceback (most recent call last)",
      "\u001b[1;32m~\\AppData\\Local\\Temp/ipykernel_5164/1882540938.py\u001b[0m in \u001b[0;36m<module>\u001b[1;34m\u001b[0m\n\u001b[0;32m      3\u001b[0m           {'name': '수박', 'price': 10000, 'cnt': 5} ]\n\u001b[0;32m      4\u001b[0m \u001b[1;33m\u001b[0m\u001b[0m\n\u001b[1;32m----> 5\u001b[1;33m \u001b[1;32mimport\u001b[0m \u001b[0mfunction_fruitlist\u001b[0m \u001b[1;32mas\u001b[0m \u001b[0mff\u001b[0m\u001b[1;33m\u001b[0m\u001b[1;33m\u001b[0m\u001b[0m\n\u001b[0m\u001b[0;32m      6\u001b[0m \u001b[0mSUM\u001b[0m\u001b[1;33m=\u001b[0m\u001b[1;36m0\u001b[0m\u001b[1;33m\u001b[0m\u001b[1;33m\u001b[0m\u001b[0m\n\u001b[0;32m      7\u001b[0m \u001b[1;32mwhile\u001b[0m \u001b[1;32mTrue\u001b[0m\u001b[1;33m:\u001b[0m\u001b[1;33m\u001b[0m\u001b[1;33m\u001b[0m\u001b[0m\n",
      "\u001b[1;31mModuleNotFoundError\u001b[0m: No module named 'function_fruitlist'"
     ]
    }
   ],
   "source": [
    "fruitlist=[{'name': '사과', 'price': 3000, 'cnt': 5},\n",
    "          {'name': '포도', 'price': 4000, 'cnt': 20},\n",
    "          {'name': '수박', 'price': 10000, 'cnt': 5} ]\n",
    "\n",
    "import function_fruitlist as ff\n",
    "SUM=0\n",
    "while True:\n",
    "    choice=input('''\n",
    "        다음 중에서 하실 일을 골라주세요 :\n",
    "        I - 입력\n",
    "        S - 판매\n",
    "        C - 재고리스트\n",
    "        D - 삭제\n",
    "        Q - 종료\n",
    "        ''').upper()\n",
    "\n",
    "    if choice==\"I\":\n",
    "        ff.fruit_input(fruitlist)\n",
    "\n",
    "    elif choice==\"S\": \n",
    "        SUM= ff.fruit_s(fruitlist,SUM)\n",
    "\n",
    "    elif choice == 'C':\n",
    "        ff.fruit_c(fruitlist)     \n",
    "\n",
    "    elif choice == 'D':\n",
    "        ff.fruit_d(fruitlist)\n",
    "\n",
    "    elif choice == \"Q\":\n",
    "        print('프로그램을 종료합니다.')\n",
    "        break"
   ]
  },
  {
   "cell_type": "code",
   "execution_count": 8,
   "id": "bb9356bf-6788-4d1e-bee0-b463285c118d",
   "metadata": {},
   "outputs": [
    {
     "name": "stdin",
     "output_type": "stream",
     "text": [
      "\n",
      "        다음 중에서 하실 일을 골라주세요 :\n",
      "        I - 입력\n",
      "        S - 판매\n",
      "        U - 수정\n",
      "        D - 삭제\n",
      "        Q - 종료\n",
      "         i\n"
     ]
    },
    {
     "name": "stdout",
     "output_type": "stream",
     "text": [
      "\n",
      "---------메뉴---------\n",
      "('사과', 3000, 5)\n",
      "('포도', 4000, 20)\n",
      "('수박', 10000, 5)\n"
     ]
    },
    {
     "name": "stdin",
     "output_type": "stream",
     "text": [
      "과일이름 >>>  바나나\n",
      "과일가격 >>>  3000\n",
      "과일수량 >>>  32\n"
     ]
    },
    {
     "name": "stdout",
     "output_type": "stream",
     "text": [
      "\n",
      "---------메뉴---------\n",
      "('사과', 3000, 5)\n",
      "('포도', 4000, 20)\n",
      "('수박', 10000, 5)\n",
      "('바나나', 3000, 32)\n"
     ]
    },
    {
     "name": "stdin",
     "output_type": "stream",
     "text": [
      "\n",
      "        다음 중에서 하실 일을 골라주세요 :\n",
      "        I - 입력\n",
      "        S - 판매\n",
      "        U - 수정\n",
      "        D - 삭제\n",
      "        Q - 종료\n",
      "         s\n"
     ]
    },
    {
     "name": "stdout",
     "output_type": "stream",
     "text": [
      "\n",
      "---------메뉴---------\n",
      "('사과', 3000, 5)\n",
      "('포도', 4000, 20)\n",
      "('수박', 10000, 5)\n",
      "('바나나', 3000, 32)\n"
     ]
    },
    {
     "name": "stdin",
     "output_type": "stream",
     "text": [
      "어떤 과일을 판매하시겠습니까? 바나나\n",
      "몇개를 판매하시겠습니까? 20\n"
     ]
    },
    {
     "name": "stdout",
     "output_type": "stream",
     "text": [
      "0\n",
      "1\n",
      "2\n"
     ]
    },
    {
     "ename": "KeyboardInterrupt",
     "evalue": "Interrupted by user",
     "output_type": "error",
     "traceback": [
      "\u001b[1;31m---------------------------------------------------------------------------\u001b[0m",
      "\u001b[1;31mKeyboardInterrupt\u001b[0m                         Traceback (most recent call last)",
      "\u001b[1;32m~\\AppData\\Local\\Temp/ipykernel_13248/489842168.py\u001b[0m in \u001b[0;36m<module>\u001b[1;34m\u001b[0m\n\u001b[0;32m     15\u001b[0m \u001b[1;33m\u001b[0m\u001b[0m\n\u001b[0;32m     16\u001b[0m \u001b[1;32mwhile\u001b[0m \u001b[1;32mTrue\u001b[0m\u001b[1;33m:\u001b[0m\u001b[1;33m\u001b[0m\u001b[1;33m\u001b[0m\u001b[0m\n\u001b[1;32m---> 17\u001b[1;33m     choice=input('''\n\u001b[0m\u001b[0;32m     18\u001b[0m         \u001b[0m다음\u001b[0m \u001b[0m중에서\u001b[0m \u001b[0m하실\u001b[0m \u001b[0m일을\u001b[0m \u001b[0m골라주세요\u001b[0m \u001b[1;33m:\u001b[0m\u001b[1;33m\u001b[0m\u001b[1;33m\u001b[0m\u001b[0m\n\u001b[0;32m     19\u001b[0m         \u001b[0mI\u001b[0m \u001b[1;33m-\u001b[0m \u001b[0m입력\u001b[0m\u001b[1;33m\u001b[0m\u001b[1;33m\u001b[0m\u001b[0m\n",
      "\u001b[1;32m~\\anaconda3\\lib\\site-packages\\ipykernel\\kernelbase.py\u001b[0m in \u001b[0;36mraw_input\u001b[1;34m(self, prompt)\u001b[0m\n\u001b[0;32m   1004\u001b[0m                 \u001b[1;34m\"raw_input was called, but this frontend does not support input requests.\"\u001b[0m\u001b[1;33m\u001b[0m\u001b[1;33m\u001b[0m\u001b[0m\n\u001b[0;32m   1005\u001b[0m             )\n\u001b[1;32m-> 1006\u001b[1;33m         return self._input_request(\n\u001b[0m\u001b[0;32m   1007\u001b[0m             \u001b[0mstr\u001b[0m\u001b[1;33m(\u001b[0m\u001b[0mprompt\u001b[0m\u001b[1;33m)\u001b[0m\u001b[1;33m,\u001b[0m\u001b[1;33m\u001b[0m\u001b[1;33m\u001b[0m\u001b[0m\n\u001b[0;32m   1008\u001b[0m             \u001b[0mself\u001b[0m\u001b[1;33m.\u001b[0m\u001b[0m_parent_ident\u001b[0m\u001b[1;33m[\u001b[0m\u001b[1;34m\"shell\"\u001b[0m\u001b[1;33m]\u001b[0m\u001b[1;33m,\u001b[0m\u001b[1;33m\u001b[0m\u001b[1;33m\u001b[0m\u001b[0m\n",
      "\u001b[1;32m~\\anaconda3\\lib\\site-packages\\ipykernel\\kernelbase.py\u001b[0m in \u001b[0;36m_input_request\u001b[1;34m(self, prompt, ident, parent, password)\u001b[0m\n\u001b[0;32m   1049\u001b[0m             \u001b[1;32mexcept\u001b[0m \u001b[0mKeyboardInterrupt\u001b[0m\u001b[1;33m:\u001b[0m\u001b[1;33m\u001b[0m\u001b[1;33m\u001b[0m\u001b[0m\n\u001b[0;32m   1050\u001b[0m                 \u001b[1;31m# re-raise KeyboardInterrupt, to truncate traceback\u001b[0m\u001b[1;33m\u001b[0m\u001b[1;33m\u001b[0m\u001b[0m\n\u001b[1;32m-> 1051\u001b[1;33m                 \u001b[1;32mraise\u001b[0m \u001b[0mKeyboardInterrupt\u001b[0m\u001b[1;33m(\u001b[0m\u001b[1;34m\"Interrupted by user\"\u001b[0m\u001b[1;33m)\u001b[0m \u001b[1;32mfrom\u001b[0m \u001b[1;32mNone\u001b[0m\u001b[1;33m\u001b[0m\u001b[1;33m\u001b[0m\u001b[0m\n\u001b[0m\u001b[0;32m   1052\u001b[0m             \u001b[1;32mexcept\u001b[0m \u001b[0mException\u001b[0m\u001b[1;33m:\u001b[0m\u001b[1;33m\u001b[0m\u001b[1;33m\u001b[0m\u001b[0m\n\u001b[0;32m   1053\u001b[0m                 \u001b[0mself\u001b[0m\u001b[1;33m.\u001b[0m\u001b[0mlog\u001b[0m\u001b[1;33m.\u001b[0m\u001b[0mwarning\u001b[0m\u001b[1;33m(\u001b[0m\u001b[1;34m\"Invalid Message:\"\u001b[0m\u001b[1;33m,\u001b[0m \u001b[0mexc_info\u001b[0m\u001b[1;33m=\u001b[0m\u001b[1;32mTrue\u001b[0m\u001b[1;33m)\u001b[0m\u001b[1;33m\u001b[0m\u001b[1;33m\u001b[0m\u001b[0m\n",
      "\u001b[1;31mKeyboardInterrupt\u001b[0m: Interrupted by user"
     ]
    }
   ],
   "source": [
    "#pip install cx_oracle ← 이걸 cmd든 터미널이든 실행해서 설치해야 아래 코드가 돌아감.\n",
    "\n",
    "import cx_Oracle\n",
    "\n",
    "conn = cx_Oracle.connect('scott','tiger','localhost:1521/XE')\n",
    "cursor = conn.cursor()\n",
    "cursor.execute(\"DROP table test\")\n",
    "cursor.execute(\"create table test(name varchar(20) primary key, price number(10), cnt number(10))\")\n",
    "cursor.execute(\"insert into test(name,price,cnt) values('사과',3000,5)\")\n",
    "cursor.execute(\"insert into test(name,price,cnt) values('포도',4000,20)\")\n",
    "cursor.execute(\"insert into test(name,price,cnt) values('수박',10000,5)\")\n",
    "cursor.close()\n",
    "conn.commit()\n",
    "conn.close()\n",
    "\n",
    "while True:\n",
    "    choice=input('''\n",
    "        다음 중에서 하실 일을 골라주세요 :\n",
    "        I - 입력\n",
    "        S - 판매\n",
    "        U - 수정\n",
    "        D - 삭제\n",
    "        Q - 종료\n",
    "        ''').upper()\n",
    "\n",
    "    if choice==\"I\":  \n",
    "        conn = cx_Oracle.connect('scott','tiger','localhost:1521/XE')\n",
    "        cursor = conn.cursor()\n",
    "        menu=\"SELECT * FROM TEST\"\n",
    "        cursor.execute(menu)\n",
    "        rs=cursor.fetchall()\n",
    "        print('\\n---------메뉴---------')\n",
    "        for i in range(len(rs)):\n",
    "            print(rs[i])\n",
    "        sql = \"insert into test values(:1,:2,:3)\"\n",
    "        name = input('과일이름 >>> ')\n",
    "        price = input('과일가격 >>> ')\n",
    "        cnt = input('과일수량 >>> ')\n",
    "        data = (name,int(price),int(cnt))\n",
    "        cursor.execute(sql,data)\n",
    "        menu=\"SELECT * FROM TEST\"\n",
    "        cursor.execute(menu)\n",
    "        rs=cursor.fetchall()\n",
    "        print('\\n---------메뉴---------')\n",
    "        for i in range(len(rs)):\n",
    "            print(rs[i])\n",
    "        cursor.close()\n",
    "        conn.commit()\n",
    "        conn.close()\n",
    "    \n",
    "    elif choice==\"S\":\n",
    "        conn = cx_Oracle.connect('scott','tiger','localhost:1521/XE')\n",
    "        cursor = conn.cursor()\n",
    "        menu=\"SELECT * FROM TEST\"\n",
    "        cursor.execute(menu)\n",
    "        rs=cursor.fetchall()\n",
    "        print('\\n---------메뉴---------')\n",
    "        for i in range(len(rs)):\n",
    "            print(rs[i])\n",
    "        sellfruit = input(\"어떤 과일을 판매하시겠습니까?\")\n",
    "        sellcnt = input(\"몇개를 판매하시겠습니까?\")\n",
    "        sellcnt1 = 0\n",
    "        for i in range(len(rs[i])):\n",
    "            print(i)\n",
    "#             if rs[i][0] == sellfruit:\n",
    "#                 sellcnt1 = rs[i][2]-int(sellcnt)\n",
    "#                 print(\"판매금액은 {0}원 입니다.\".format(int(sellcnt)*rs[i][1]))\n",
    "#         cursor.execute(\"update test set cnt = '{0}' where NAME = '{1}'\".format(sellcnt1,sellfruit))\n",
    "#         menu=\"SELECT * FROM TEST\"\n",
    "#         cursor.execute(menu)\n",
    "#         rs=cursor.fetchall()\n",
    "#         print('\\n---------메뉴---------')\n",
    "#         for i in range(len(rs)):\n",
    "#             print(rs[i])\n",
    "#         cursor.close()\n",
    "#         conn.commit()\n",
    "#         conn.close()\n",
    "    \n",
    "    elif choice==\"U\":\n",
    "        conn = cx_Oracle.connect('scott','tiger','localhost:1521/XE')\n",
    "        cursor = conn.cursor()\n",
    "        menu=\"SELECT * FROM TEST\"\n",
    "        cursor.execute(menu)\n",
    "        rs=cursor.fetchall()\n",
    "        print('\\n---------메뉴---------')\n",
    "        for i in range(len(rs)):\n",
    "            print(rs[i])\n",
    "        changename = input('수정하고자 하는 과일이름을 입력하세요.')\n",
    "        name = input('과일이름 >>> ')\n",
    "        price = int(input('과일가격 >>> '))\n",
    "        cnt = int(input('과일수량 >>> '))\n",
    "        cursor.execute(\"update test set NAME = '{0}', PRICE = '{1}', CNT = '{2}' where NAME = '{3}'\".format(name,price,cnt,changename))\n",
    "        menu=\"SELECT * FROM TEST\"\n",
    "        cursor.execute(menu)\n",
    "        rs=cursor.fetchall()\n",
    "        print('\\n---------메뉴---------')\n",
    "        for i in range(len(rs)):\n",
    "            print(rs[i])\n",
    "        cursor.close()\n",
    "        conn.commit()\n",
    "        conn.close()\n",
    "    \n",
    "    elif choice==\"D\":\n",
    "        conn = cx_Oracle.connect('scott','tiger','localhost:1521/XE')\n",
    "        cursor = conn.cursor()\n",
    "        menu=\"SELECT * FROM TEST\"\n",
    "        cursor.execute(menu)\n",
    "        rs=cursor.fetchall()\n",
    "        print('\\n---------메뉴---------')\n",
    "        for i in range(len(rs)):\n",
    "            print(rs[i])\n",
    "        deletename = input('삭제하고자 하는 과일이름을 입력하세요.')\n",
    "        cursor.execute(\"delete from test where NAME = '{0}'\".format(deletename))\n",
    "        menu=\"SELECT * FROM TEST\"\n",
    "        cursor.execute(menu)\n",
    "        rs=cursor.fetchall()\n",
    "        print('\\n---------메뉴---------')\n",
    "        for i in range(len(rs)):\n",
    "            print(rs[i])\n",
    "        cursor.close()\n",
    "        conn.commit()\n",
    "        conn.close()\n",
    "\n",
    "    elif choice == \"Q\":\n",
    "        print('프로그램을 종료합니다.')\n",
    "        break"
   ]
  },
  {
   "cell_type": "code",
   "execution_count": 9,
   "id": "d0c8c1f2-61d9-45c8-9ca4-021d3f93eb51",
   "metadata": {},
   "outputs": [
    {
     "name": "stdout",
     "output_type": "stream",
     "text": [
      "0\n",
      "1\n",
      "2\n"
     ]
    }
   ],
   "source": [
    "for i in range(len(rs[i])):\n",
    "            print(i)"
   ]
  },
  {
   "cell_type": "code",
   "execution_count": 10,
   "id": "fb131b53-f78c-4762-ada7-11b508700542",
   "metadata": {},
   "outputs": [
    {
     "data": {
      "text/plain": [
       "3"
      ]
     },
     "execution_count": 10,
     "metadata": {},
     "output_type": "execute_result"
    }
   ],
   "source": [
    "len(rs[i])"
   ]
  },
  {
   "cell_type": "code",
   "execution_count": null,
   "id": "5c70b7b1-bf87-4297-8b20-9fd97954f993",
   "metadata": {},
   "outputs": [],
   "source": []
  },
  {
   "cell_type": "code",
   "execution_count": 7,
   "id": "1ed096df-fb92-424f-8cca-51eb7a1c9ef7",
   "metadata": {},
   "outputs": [
    {
     "data": {
      "text/plain": [
       "4"
      ]
     },
     "execution_count": 7,
     "metadata": {},
     "output_type": "execute_result"
    }
   ],
   "source": [
    "len(rs)"
   ]
  },
  {
   "cell_type": "code",
   "execution_count": null,
   "id": "30ecdb3c-e9f9-465d-84da-7c6f10d529b0",
   "metadata": {},
   "outputs": [],
   "source": []
  },
  {
   "cell_type": "code",
   "execution_count": null,
   "id": "39620d7d-033f-49e2-ba0f-50e930a7cacb",
   "metadata": {},
   "outputs": [],
   "source": []
  },
  {
   "cell_type": "code",
   "execution_count": null,
   "id": "ffca3877-9803-4d35-aef4-e1cf1411e740",
   "metadata": {},
   "outputs": [],
   "source": []
  },
  {
   "cell_type": "code",
   "execution_count": null,
   "id": "850321fe-4991-439e-b41a-9f3f6858d08b",
   "metadata": {},
   "outputs": [],
   "source": []
  },
  {
   "cell_type": "code",
   "execution_count": null,
   "id": "d6cf418d-ae4d-4353-819d-f9db914dcd7f",
   "metadata": {},
   "outputs": [],
   "source": []
  },
  {
   "cell_type": "code",
   "execution_count": null,
   "id": "ef5f1e64-9c39-490a-9f45-a214532e05e7",
   "metadata": {},
   "outputs": [],
   "source": []
  },
  {
   "cell_type": "code",
   "execution_count": 2,
   "id": "1c5c2ddc-7ba2-427b-a4a3-385b6a9aa6d9",
   "metadata": {},
   "outputs": [
    {
     "ename": "NameError",
     "evalue": "name 'sellcnt1' is not defined",
     "output_type": "error",
     "traceback": [
      "\u001b[1;31m---------------------------------------------------------------------------\u001b[0m",
      "\u001b[1;31mNameError\u001b[0m                                 Traceback (most recent call last)",
      "\u001b[1;32m~\\AppData\\Local\\Temp/ipykernel_13248/1955286224.py\u001b[0m in \u001b[0;36m<module>\u001b[1;34m\u001b[0m\n\u001b[1;32m----> 1\u001b[1;33m \u001b[0msellcnt1\u001b[0m\u001b[1;33m\u001b[0m\u001b[1;33m\u001b[0m\u001b[0m\n\u001b[0m",
      "\u001b[1;31mNameError\u001b[0m: name 'sellcnt1' is not defined"
     ]
    }
   ],
   "source": [
    "sellcnt1"
   ]
  },
  {
   "cell_type": "code",
   "execution_count": null,
   "id": "aee5e8f2-d6f7-4d57-8770-4cd575ae3b04",
   "metadata": {},
   "outputs": [],
   "source": []
  },
  {
   "cell_type": "code",
   "execution_count": null,
   "id": "d15ae77b-d8d3-4d24-92da-2ba545fc21ff",
   "metadata": {},
   "outputs": [],
   "source": []
  },
  {
   "cell_type": "code",
   "execution_count": null,
   "id": "6a1068d7-ead1-4983-becc-e0811e711484",
   "metadata": {},
   "outputs": [],
   "source": []
  },
  {
   "cell_type": "code",
   "execution_count": null,
   "id": "1299a9be-6340-4c32-ada6-d4f2d7fec9d6",
   "metadata": {},
   "outputs": [],
   "source": []
  },
  {
   "cell_type": "code",
   "execution_count": null,
   "id": "c6ed88d5-c0d9-4999-8923-443b12d00708",
   "metadata": {},
   "outputs": [],
   "source": []
  },
  {
   "cell_type": "code",
   "execution_count": null,
   "id": "13d32292-346e-4070-be19-189c680e8c54",
   "metadata": {},
   "outputs": [],
   "source": []
  },
  {
   "cell_type": "code",
   "execution_count": null,
   "id": "9e9b9a72-8f30-4152-bc00-a67f4497a504",
   "metadata": {},
   "outputs": [],
   "source": []
  },
  {
   "cell_type": "code",
   "execution_count": 4,
   "id": "3b2dbf0f-5e75-4aa4-8dc6-427188ad4633",
   "metadata": {},
   "outputs": [
    {
     "data": {
      "text/plain": [
       "[{'name': '사과', 'price': 3000, 'cnt': 5},\n",
       " {'name': '포도', 'price': 4000, 'cnt': 20},\n",
       " {'name': '수박', 'price': 10000, 'cnt': 5}]"
      ]
     },
     "execution_count": 4,
     "metadata": {},
     "output_type": "execute_result"
    }
   ],
   "source": [
    "fruitlist"
   ]
  },
  {
   "cell_type": "code",
   "execution_count": 5,
   "id": "58d967da-101f-498a-b9ae-e9abc881ab76",
   "metadata": {},
   "outputs": [
    {
     "name": "stdout",
     "output_type": "stream",
     "text": [
      "{'name': '사과', 'price': 3000, 'cnt': 5}\n",
      "{'name': '포도', 'price': 4000, 'cnt': 20}\n",
      "{'name': '수박', 'price': 10000, 'cnt': 5}\n"
     ]
    }
   ],
   "source": [
    "for i in fruitlist:\n",
    "    print(i)"
   ]
  },
  {
   "cell_type": "code",
   "execution_count": 7,
   "id": "d995b6ef-7a87-4f43-a389-6c67bf034b29",
   "metadata": {},
   "outputs": [
    {
     "data": {
      "text/plain": [
       "'수박'"
      ]
     },
     "execution_count": 7,
     "metadata": {},
     "output_type": "execute_result"
    }
   ],
   "source": [
    "i['name']"
   ]
  },
  {
   "cell_type": "code",
   "execution_count": null,
   "id": "5d43814d-e439-4ec2-a03b-ced2a57bf878",
   "metadata": {},
   "outputs": [],
   "source": []
  }
 ],
 "metadata": {
  "kernelspec": {
   "display_name": "Python 3 (ipykernel)",
   "language": "python",
   "name": "python3"
  },
  "language_info": {
   "codemirror_mode": {
    "name": "ipython",
    "version": 3
   },
   "file_extension": ".py",
   "mimetype": "text/x-python",
   "name": "python",
   "nbconvert_exporter": "python",
   "pygments_lexer": "ipython3",
   "version": "3.9.7"
  }
 },
 "nbformat": 4,
 "nbformat_minor": 5
}
