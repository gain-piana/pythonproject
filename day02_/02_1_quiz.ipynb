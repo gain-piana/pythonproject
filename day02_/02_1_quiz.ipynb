{
 "cells": [
  {
   "cell_type": "raw",
   "id": "75edd72c-03a3-4618-96d1-56ca9a25cc17",
   "metadata": {},
   "source": [
    "quiz 01>\n",
    "주민등록번호 14자리를 입력받아서 성별을 체크합니다.\n",
    "프로그램 종료는 (q,Q)를 누를때 까지 반복처리합니다.\n",
    "\n",
    "입력예 : 123456-1234567\n",
    "조건처리 : - 길이값 체크\n",
    "          - 성별 체크 (가능값:1,2,3,4)\n",
    "출력 : 여성입니다. or 남성입니다."
   ]
  },
  {
   "cell_type": "code",
   "execution_count": 1,
   "id": "c504ca98-1bb1-466f-9db8-ed43c9732dbc",
   "metadata": {},
   "outputs": [
    {
     "name": "stdin",
     "output_type": "stream",
     "text": [
      "주민등록번호 14자리를 입력하세요. '-'도 포함해서 입력 123556-1234567\n"
     ]
    }
   ],
   "source": [
    "a = input(\"주민등록번호 13자리를 입력하세요. '-'도 포함해서 입력\")"
   ]
  },
  {
   "cell_type": "code",
   "execution_count": 312,
   "id": "5b176fdf-854b-49c3-b9a8-fb61c8bf1bfe",
   "metadata": {
    "tags": []
   },
   "outputs": [
    {
     "name": "stdin",
     "output_type": "stream",
     "text": [
      "주민등록번호 13자리를 입력하세요. '-'도 포함해서 입력\n",
      " Q\n"
     ]
    },
    {
     "name": "stdout",
     "output_type": "stream",
     "text": [
      "종료합니다.\n"
     ]
    }
   ],
   "source": [
    "a = 1\n",
    "\n",
    "while a:\n",
    "    a = input(\"주민등록번호 13자리를 입력하세요. '-'도 포함해서 입력\\n\")\n",
    "    \n",
    "    if len(a) ==14 and (a[7] == '1' or a[7] == '3') and a[6] == '-':\n",
    "        print('남성입니다.')\n",
    "    \n",
    "    elif len(a)==14 and (a[7] == '2' or a[7] == '4') and a[6] == '-':\n",
    "        print('여성입니다.')\n",
    "               \n",
    "    elif len(a)!=14 and a not in ['q',  'Q']:\n",
    "        print('주민등록번호가 14자리가아닌 %d 자리입니다' % len(a))\n",
    "    \n",
    "    elif a == 'q' or a == 'Q':\n",
    "        print('종료합니다.')\n",
    "        break\n",
    "        \n",
    "    else:\n",
    "        print('잘못된 주민등록번호 형식입니다. 다시 입력해주세요.')"
   ]
  },
  {
   "cell_type": "code",
   "execution_count": 93,
   "id": "3918704b-005f-41e5-8892-30a761a42bc3",
   "metadata": {
    "tags": []
   },
   "outputs": [
    {
     "name": "stdin",
     "output_type": "stream",
     "text": [
      "주민등록번호 13자리를 입력하세요. '-'도 포함해서 입력\n",
      " Q\n"
     ]
    },
    {
     "name": "stdout",
     "output_type": "stream",
     "text": [
      "주민등록번호가 14자리가아닌 1 자리입니다\n",
      "주민등록번호가 14자리가아닌 1 자리입니다\n"
     ]
    },
    {
     "ename": "KeyboardInterrupt",
     "evalue": "Interrupted by user",
     "output_type": "error",
     "traceback": [
      "\u001b[1;31m---------------------------------------------------------------------------\u001b[0m",
      "\u001b[1;31mKeyboardInterrupt\u001b[0m                         Traceback (most recent call last)",
      "\u001b[1;32m~\\AppData\\Local\\Temp/ipykernel_10488/1779099875.py\u001b[0m in \u001b[0;36m<module>\u001b[1;34m\u001b[0m\n\u001b[0;32m      2\u001b[0m \u001b[1;33m\u001b[0m\u001b[0m\n\u001b[0;32m      3\u001b[0m \u001b[1;32mwhile\u001b[0m \u001b[0ma\u001b[0m\u001b[1;33m:\u001b[0m\u001b[1;33m\u001b[0m\u001b[1;33m\u001b[0m\u001b[0m\n\u001b[1;32m----> 4\u001b[1;33m     \u001b[0ma\u001b[0m \u001b[1;33m=\u001b[0m \u001b[0minput\u001b[0m\u001b[1;33m(\u001b[0m\u001b[1;34m\"주민등록번호 13자리를 입력하세요. '-'도 포함해서 입력\\n\"\u001b[0m\u001b[1;33m)\u001b[0m\u001b[1;33m\u001b[0m\u001b[1;33m\u001b[0m\u001b[0m\n\u001b[0m\u001b[0;32m      5\u001b[0m \u001b[1;33m\u001b[0m\u001b[0m\n\u001b[0;32m      6\u001b[0m     \u001b[1;32mif\u001b[0m \u001b[0mlen\u001b[0m\u001b[1;33m(\u001b[0m\u001b[0ma\u001b[0m\u001b[1;33m)\u001b[0m \u001b[1;33m==\u001b[0m\u001b[1;36m14\u001b[0m \u001b[1;32mand\u001b[0m \u001b[1;33m(\u001b[0m\u001b[0ma\u001b[0m\u001b[1;33m[\u001b[0m\u001b[1;36m7\u001b[0m\u001b[1;33m]\u001b[0m \u001b[1;33m==\u001b[0m \u001b[1;34m'1'\u001b[0m \u001b[1;32mor\u001b[0m \u001b[0ma\u001b[0m\u001b[1;33m[\u001b[0m\u001b[1;36m7\u001b[0m\u001b[1;33m]\u001b[0m \u001b[1;33m==\u001b[0m \u001b[1;34m'3'\u001b[0m\u001b[1;33m)\u001b[0m \u001b[1;32mand\u001b[0m \u001b[0ma\u001b[0m\u001b[1;33m[\u001b[0m\u001b[1;36m6\u001b[0m\u001b[1;33m]\u001b[0m \u001b[1;33m==\u001b[0m \u001b[1;34m'-'\u001b[0m\u001b[1;33m:\u001b[0m\u001b[1;33m\u001b[0m\u001b[1;33m\u001b[0m\u001b[0m\n",
      "\u001b[1;32m~\\anaconda3\\lib\\site-packages\\ipykernel\\kernelbase.py\u001b[0m in \u001b[0;36mraw_input\u001b[1;34m(self, prompt)\u001b[0m\n\u001b[0;32m   1004\u001b[0m                 \u001b[1;34m\"raw_input was called, but this frontend does not support input requests.\"\u001b[0m\u001b[1;33m\u001b[0m\u001b[1;33m\u001b[0m\u001b[0m\n\u001b[0;32m   1005\u001b[0m             )\n\u001b[1;32m-> 1006\u001b[1;33m         return self._input_request(\n\u001b[0m\u001b[0;32m   1007\u001b[0m             \u001b[0mstr\u001b[0m\u001b[1;33m(\u001b[0m\u001b[0mprompt\u001b[0m\u001b[1;33m)\u001b[0m\u001b[1;33m,\u001b[0m\u001b[1;33m\u001b[0m\u001b[1;33m\u001b[0m\u001b[0m\n\u001b[0;32m   1008\u001b[0m             \u001b[0mself\u001b[0m\u001b[1;33m.\u001b[0m\u001b[0m_parent_ident\u001b[0m\u001b[1;33m[\u001b[0m\u001b[1;34m\"shell\"\u001b[0m\u001b[1;33m]\u001b[0m\u001b[1;33m,\u001b[0m\u001b[1;33m\u001b[0m\u001b[1;33m\u001b[0m\u001b[0m\n",
      "\u001b[1;32m~\\anaconda3\\lib\\site-packages\\ipykernel\\kernelbase.py\u001b[0m in \u001b[0;36m_input_request\u001b[1;34m(self, prompt, ident, parent, password)\u001b[0m\n\u001b[0;32m   1049\u001b[0m             \u001b[1;32mexcept\u001b[0m \u001b[0mKeyboardInterrupt\u001b[0m\u001b[1;33m:\u001b[0m\u001b[1;33m\u001b[0m\u001b[1;33m\u001b[0m\u001b[0m\n\u001b[0;32m   1050\u001b[0m                 \u001b[1;31m# re-raise KeyboardInterrupt, to truncate traceback\u001b[0m\u001b[1;33m\u001b[0m\u001b[1;33m\u001b[0m\u001b[0m\n\u001b[1;32m-> 1051\u001b[1;33m                 \u001b[1;32mraise\u001b[0m \u001b[0mKeyboardInterrupt\u001b[0m\u001b[1;33m(\u001b[0m\u001b[1;34m\"Interrupted by user\"\u001b[0m\u001b[1;33m)\u001b[0m \u001b[1;32mfrom\u001b[0m \u001b[1;32mNone\u001b[0m\u001b[1;33m\u001b[0m\u001b[1;33m\u001b[0m\u001b[0m\n\u001b[0m\u001b[0;32m   1052\u001b[0m             \u001b[1;32mexcept\u001b[0m \u001b[0mException\u001b[0m\u001b[1;33m:\u001b[0m\u001b[1;33m\u001b[0m\u001b[1;33m\u001b[0m\u001b[0m\n\u001b[0;32m   1053\u001b[0m                 \u001b[0mself\u001b[0m\u001b[1;33m.\u001b[0m\u001b[0mlog\u001b[0m\u001b[1;33m.\u001b[0m\u001b[0mwarning\u001b[0m\u001b[1;33m(\u001b[0m\u001b[1;34m\"Invalid Message:\"\u001b[0m\u001b[1;33m,\u001b[0m \u001b[0mexc_info\u001b[0m\u001b[1;33m=\u001b[0m\u001b[1;32mTrue\u001b[0m\u001b[1;33m)\u001b[0m\u001b[1;33m\u001b[0m\u001b[1;33m\u001b[0m\u001b[0m\n",
      "\u001b[1;31mKeyboardInterrupt\u001b[0m: Interrupted by user"
     ]
    }
   ],
   "source": [
    "a = 1\n",
    "\n",
    "while a:\n",
    "    a = input(\"주민등록번호 13자리를 입력하세요. '-'도 포함해서 입력\\n\")\n",
    "    \n",
    "    if len(a) ==14 and (a[7] == '1' or a[7] == '3') and a[6] == '-':\n",
    "        print('남성입니다.')\n",
    "    \n",
    "    elif len(a)==14 and (a[7] == '2' or a[7] == '4') and a[6] == '-':\n",
    "        print('여성입니다.')\n",
    "               \n",
    "    elif len(a)!=14 and a != ('q' or 'Q'):\n",
    "        print('주민등록번호가 14자리가아닌 %d 자리입니다' % len(a))\n",
    "    \n",
    "    elif a == 'q' or a == 'Q':\n",
    "        print('종료합니다.')\n",
    "        break\n",
    "        \n",
    "    else:\n",
    "        print('잘못된 주민등록번호 형식입니다. 다시 입력해주세요.')"
   ]
  },
  {
   "cell_type": "raw",
   "id": "46b033a3-dc9b-490b-8f3b-8e7126262e22",
   "metadata": {
    "tags": []
   },
   "source": [
    "quiz 02>\n",
    "로또 번호 추출기\n",
    "총 5셋트의 번호를 추출합니다.\n",
    "한 셋트당 번호는 6개 입니다.\n",
    "번호는 1~45 사이의 번호만 가능합니다.\n",
    "번호는 중복되면 안됩니다.\n",
    "번호를 출력시 오름차순으로 정렬해서 출력하니다."
   ]
  },
  {
   "cell_type": "code",
   "execution_count": 97,
   "id": "73c086a7-bea7-47f4-8cec-d1a9fee8f6b6",
   "metadata": {},
   "outputs": [],
   "source": [
    "import random"
   ]
  },
  {
   "cell_type": "code",
   "execution_count": 309,
   "id": "07b200c8-e4cf-4f47-8caf-1dbd9892db34",
   "metadata": {},
   "outputs": [
    {
     "data": {
      "text/plain": [
       "31"
      ]
     },
     "execution_count": 309,
     "metadata": {},
     "output_type": "execute_result"
    }
   ],
   "source": [
    "random.randint(1,45)"
   ]
  },
  {
   "cell_type": "code",
   "execution_count": 707,
   "id": "6ac747c0-5c1d-471f-a924-8b99d3fd5fb7",
   "metadata": {},
   "outputs": [
    {
     "name": "stdout",
     "output_type": "stream",
     "text": [
      "[10, 13, 15, 16, 20, 24, 40]\n",
      "[1, 9, 24, 33, 36, 37, 39]\n",
      "[6, 9, 18, 22, 28, 34, 36]\n",
      "[14, 22, 28, 30, 38, 39, 42]\n",
      "[4, 11, 17, 28, 29, 33, 37]\n"
     ]
    }
   ],
   "source": [
    "count = 0\n",
    "while count <= 4:\n",
    "    lotto = [random.randint(1,45), random.randint(1,45), random.randint(1,45), random.randint(1,45), random.randint(1,45), random.randint(1,45), random.randint(1,45)]\n",
    "    lotto.sort()\n",
    "    if lotto[1] not in [lotto[2], lotto[3], lotto[4], lotto[5], lotto[6]] and lotto[2] not in [lotto[1], lotto[3], lotto[4], lotto[5], lotto[6]] and lotto[3] not in [lotto[2], lotto[1], lotto[4], lotto[5], lotto[6]] and lotto[4] not in [lotto[2], lotto[3], lotto[1], lotto[5], lotto[6]] and lotto[5] not in [lotto[2], lotto[3], lotto[4], lotto[1], lotto[6]] and lotto[6] not in [lotto[2], lotto[3], lotto[4], lotto[5], lotto[1]]:\n",
    "        print(lotto)\n",
    "        count = count + 1"
   ]
  },
  {
   "cell_type": "code",
   "execution_count": 705,
   "id": "6463dd72-8a54-461a-83b1-cc76dce3b9fd",
   "metadata": {},
   "outputs": [
    {
     "name": "stdout",
     "output_type": "stream",
     "text": [
      "[8, 9, 11, 13, 17, 35]\n",
      "[11, 23, 26, 30, 39, 40]\n",
      "[8, 11, 18, 28, 29, 32]\n",
      "[6, 10, 16, 18, 22, 30]\n",
      "[9, 10, 25, 33, 41, 45]\n"
     ]
    }
   ],
   "source": [
    "for i in range(5):\n",
    "    lotto = [0, 0, 0, 0, 0, 0]\n",
    "    for x in range(6):\n",
    "        num = 0\n",
    "        while (num in lotto):\n",
    "            num = random.randint(1,45)\n",
    "        lotto[x]=num\n",
    "    lotto.sort()\n",
    "    print(lotto)"
   ]
  },
  {
   "cell_type": "code",
   "execution_count": 720,
   "id": "5be02eb7-304e-4bd7-bf95-4ad3cbff444d",
   "metadata": {},
   "outputs": [
    {
     "name": "stdout",
     "output_type": "stream",
     "text": [
      "[2, 9, 10, 24, 29, 42]\n",
      "[17, 22, 32, 37, 42, 43]\n",
      "[1, 6, 16, 24, 25, 27]\n",
      "[19, 20, 28, 38, 40, 44]\n",
      "[1, 16, 25, 38, 40, 41]\n"
     ]
    }
   ],
   "source": [
    "for i in range(5):\n",
    "    lotto = random.sample(range(1,46),6)\n",
    "    lotto.sort()\n",
    "    print(lotto)"
   ]
  },
  {
   "cell_type": "raw",
   "id": "6f164c18-31af-49eb-a579-4986376e635a",
   "metadata": {},
   "source": [
    "quiz 03> 커피메뉴 관리프로그램\n",
    "데이터 저장은 딕셔너리로.. {'메뉴명':가격,'coffe':2000}\n",
    "프로그램에서 사용할 메뉴\n",
    " 1.메뉴입력 2.메뉴수정 3.메뉴목록 4.메뉴삭제 5.프로그램종료\n",
    "- 메뉴입력: 메뉴명과 가격을 입력받아서 저장\n",
    "- 메뉴수정: 메뉴명을 확인하고 있는 목록 메뉴에 가격을 입력받아 수정\n",
    "- 메뉴목록: 저장된 메뉴명과 가격을 출력(천단위 구분기호 표기), 메뉴명 순서대로 출력\n",
    "- 메뉴삭제: 메뉴명을 확인하고 있는 메뉴에서 삭제\n",
    "- 프로그램 종료: 프로그램을 종료하는 메시지를 출력하고 종료\n",
    "- 메뉴1~5까지만 입력받고 다른 값이 들어오면 관련 에러 메시지를 출력한다.\n",
    "- 가격은 숫자로 입력해야됨"
   ]
  },
  {
   "cell_type": "code",
   "execution_count": 721,
   "id": "af961b8c-0b4f-4dd3-b685-6fd4e7f1c16f",
   "metadata": {},
   "outputs": [],
   "source": [
    "# sorted()\n",
    "list1=[5,2,3,1,4]\n",
    "dict1={'아이스아메리카노':3000,'라떼':4000,'코코아':3500}"
   ]
  },
  {
   "cell_type": "code",
   "execution_count": 722,
   "id": "7ce00d1e-a9d4-40c9-9911-6b6f71311350",
   "metadata": {},
   "outputs": [
    {
     "data": {
      "text/plain": [
       "[1, 2, 3, 4, 5]"
      ]
     },
     "execution_count": 722,
     "metadata": {},
     "output_type": "execute_result"
    }
   ],
   "source": [
    "sorted(list1)"
   ]
  },
  {
   "cell_type": "code",
   "execution_count": 723,
   "id": "86690b6a-655d-432d-b7e4-b308d443a9aa",
   "metadata": {},
   "outputs": [
    {
     "data": {
      "text/plain": [
       "[5, 2, 3, 1, 4]"
      ]
     },
     "execution_count": 723,
     "metadata": {},
     "output_type": "execute_result"
    }
   ],
   "source": [
    "list1"
   ]
  },
  {
   "cell_type": "code",
   "execution_count": 725,
   "id": "2f255983-8a86-49bf-bf83-e37f904d067b",
   "metadata": {},
   "outputs": [
    {
     "data": {
      "text/plain": [
       "['라떼', '아이스아메리카노', '코코아']"
      ]
     },
     "execution_count": 725,
     "metadata": {},
     "output_type": "execute_result"
    }
   ],
   "source": [
    "sorted(dict1)"
   ]
  },
  {
   "cell_type": "code",
   "execution_count": 733,
   "id": "6be433ea-15cc-4b1f-87f9-aee85f3b9a16",
   "metadata": {},
   "outputs": [
    {
     "data": {
      "text/plain": [
       "[('아이스아메리카노', 3000), ('코코아', 3500), ('라떼', 4000)]"
      ]
     },
     "execution_count": 733,
     "metadata": {},
     "output_type": "execute_result"
    }
   ],
   "source": [
    "sorted(dict1.items(),key=lambda data:data[1])"
   ]
  },
  {
   "cell_type": "code",
   "execution_count": 762,
   "id": "4f85c21b-dd43-4c62-b340-674e3723d152",
   "metadata": {},
   "outputs": [],
   "source": [
    "student_tu = [('john','A',15),\n",
    "              ('jane','B',12),\n",
    "              ('dave','B',10)]"
   ]
  },
  {
   "cell_type": "code",
   "execution_count": 763,
   "id": "e81503b6-f46c-462d-8daf-d774355a4b3d",
   "metadata": {},
   "outputs": [
    {
     "data": {
      "text/plain": [
       "[('dave', 'B', 10), ('jane', 'B', 12), ('john', 'A', 15)]"
      ]
     },
     "execution_count": 763,
     "metadata": {},
     "output_type": "execute_result"
    }
   ],
   "source": [
    "sorted(student_tu)"
   ]
  },
  {
   "cell_type": "code",
   "execution_count": 768,
   "id": "e7c47ed5-fa82-413d-b400-d9bda1444cd9",
   "metadata": {},
   "outputs": [
    {
     "data": {
      "text/plain": [
       "[('john', 'A', 15), ('jane', 'B', 12), ('dave', 'B', 10)]"
      ]
     },
     "execution_count": 768,
     "metadata": {},
     "output_type": "execute_result"
    }
   ],
   "source": [
    "sorted(student_tu,key=lambda x:x[1])"
   ]
  },
  {
   "cell_type": "raw",
   "id": "a8fbad09-f894-4b4a-b7a3-775f86d15972",
   "metadata": {},
   "source": [
    "quiz 03> 커피메뉴 관리프로그램\n",
    "데이터 저장은 딕셔너리로.. {'메뉴명':가격,'coffe':2000}\n",
    "프로그램에서 사용할 메뉴\n",
    " 1.메뉴입력 2.메뉴수정 3.메뉴목록 4.메뉴삭제 5.프로그램종료\n",
    "- 메뉴입력: 메뉴명과 가격을 입력받아서 저장\n",
    "- 메뉴수정: 메뉴명을 확인하고 있는 목록 메뉴에 가격을 입력받아 수정\n",
    "- 메뉴목록: 저장된 메뉴명과 가격을 출력(천단위 구분기호 표기), 메뉴명 순서대로 출력\n",
    "- 메뉴삭제: 메뉴명을 확인하고 있는 메뉴에서 삭제\n",
    "- 프로그램 종료: 프로그램을 종료하는 메시지를 출력하고 종료\n",
    "- 메뉴1~5까지만 입력받고 다른 값이 들어오면 관련 에러 메시지를 출력한다.\n",
    "- 가격은 숫자로 입력해야됨"
   ]
  },
  {
   "cell_type": "code",
   "execution_count": 29,
   "id": "6aeaa6cf-54f9-4aa0-9ae3-5e6e1439ba6c",
   "metadata": {},
   "outputs": [
    {
     "name": "stdin",
     "output_type": "stream",
     "text": [
      "1.메뉴입력 2.메뉴수정 3.메뉴목록 4.메뉴삭제. 5.프로그램종료 >>>  5\n"
     ]
    },
    {
     "name": "stdout",
     "output_type": "stream",
     "text": [
      "커피메뉴 관리프로그램을 종료합니다.\n"
     ]
    }
   ],
   "source": [
    "a = input('1.메뉴입력 2.메뉴수정 3.메뉴목록 4.메뉴삭제. 5.프로그램종료 >>> ')\n",
    "a1 = {0:0}\n",
    "del a1[0]\n",
    "while True:\n",
    "    if a == '1':\n",
    "        print('메뉴 : ' , a1)\n",
    "        a11 = input('메뉴명을 입력하세요.')\n",
    "        a12 = input('가격을 입력하세요.')\n",
    "        a1[a11] = format(int(a12),',d')\n",
    "        print('메뉴 : ' , a1, '\\n')\n",
    "        a = input('1.메뉴입력 2.메뉴수정 3.메뉴목록 4.메뉴삭제. 5.프로그램종료 >>> ')\n",
    "        \n",
    "    elif a == '2':\n",
    "        print('메뉴 : ' , a1)\n",
    "        a21 = input('가격을 수정할 메뉴를 입력해주세요. >>> ')\n",
    "        a22 = input('새로운 가격을 입력해주세요. >>> ')\n",
    "        a1[a21] = format(int(a22),',d')\n",
    "        print('메뉴 : ' , a1, '\\n')\n",
    "        a = input('1.메뉴입력 2.메뉴수정 3.메뉴목록 4.메뉴삭제. 5.프로그램종료 >>> ')\n",
    "    \n",
    "    elif a == '3':\n",
    "        print('메뉴 : ' , sorted(a1.items(),key=lambda x:x[0]), '\\n')\n",
    "        a = input('1.메뉴입력 2.메뉴수정 3.메뉴목록 4.메뉴삭제. 5.프로그램종료 >>> ')\n",
    "    \n",
    "    elif a == '4':\n",
    "        print('메뉴 : ' , a1)\n",
    "        a41 = input('삭제하고자 하는 메뉴명을 입력해주세요. >>> ')\n",
    "        if a41 in a1.keys():\n",
    "            del a1[a41]\n",
    "            print('메뉴 : ' , a1, '\\n')\n",
    "            a = input('1.메뉴입력 2.메뉴수정 3.메뉴목록 4.메뉴삭제. 5.프로그램종료 >>> ')\n",
    "        else:\n",
    "            print('잘못된 메뉴명입니다.\\n\\n메뉴명을 정확히 입력해주세요.')\n",
    "        \n",
    "    elif a == '5':\n",
    "        print('커피메뉴 관리프로그램을 종료합니다.')\n",
    "        break\n",
    "    \n",
    "    else:\n",
    "        print('1~5까지의 숫자를 입력하세요.\\n')\n",
    "        a = input('1.메뉴입력 2.메뉴수정 3.메뉴목록 4.메뉴삭제. 5.프로그램종료 >>> ')"
   ]
  },
  {
   "cell_type": "code",
   "execution_count": 2,
   "id": "bbf4a097-5f74-4914-95f5-a3c393d0fae7",
   "metadata": {},
   "outputs": [],
   "source": [
    "# 지금 당장 안할건데 만들어 놓기만할때 pass를 쓰면 유용하다."
   ]
  },
  {
   "cell_type": "code",
   "execution_count": null,
   "id": "571b3dd1-6967-4d3f-85ad-dc1c11ef88d6",
   "metadata": {},
   "outputs": [
    {
     "name": "stdin",
     "output_type": "stream",
     "text": [
      "\n",
      "-------------------------------------------------------\n",
      "1.메뉴입력 2.메뉴수정 3.메뉴목록 4.메뉴삭제. 5.프로그램종료\n",
      "-------------------------------------------------------\n",
      "메뉴선택 >>>  2\n"
     ]
    },
    {
     "name": "stdout",
     "output_type": "stream",
     "text": [
      "현재메뉴 :  ['아메리카노', '라떼', '코코아']\n"
     ]
    },
    {
     "name": "stdin",
     "output_type": "stream",
     "text": [
      "가격을 수정할 메뉴를 입력해주세요. >>>  라\n",
      "가격을 수정할 메뉴를 입력해주세요. >>>  라떼\n",
      "수정할 메뉴의 가격을 입력하세요. >>>  ㄷㄷ\n",
      "수정할 메뉴의 가격을 입력하세요. >>>  ㄷㄷ\n"
     ]
    }
   ],
   "source": [
    "menu = {'아메리카노':3000, '라떼':4000, '코코아':3500}\n",
    "while True:\n",
    "    choice = input('''\n",
    "-------------------------------------------------------\n",
    "1.메뉴입력 2.메뉴수정 3.메뉴목록 4.메뉴삭제. 5.프로그램종료\n",
    "-------------------------------------------------------\n",
    "메뉴선택 >>> ''')\n",
    "    \n",
    "    if choice == '1':\n",
    "        print('현재메뉴 : ' , list(menu.keys()))\n",
    "        name = input('추가할 메뉴명을 입력하세요. >>> ')\n",
    "        price = 'a'\n",
    "        while not price.isdecimal():\n",
    "            price = input('추가할 메뉴의 가격을 입력하세요. >>> ')\n",
    "        menu[name] = int(price)\n",
    "        \n",
    "    elif choice == '2':\n",
    "        print('현재메뉴 : ' , list(menu.keys()))\n",
    "        name = ''\n",
    "        while not name in menu.keys():\n",
    "            name = input('가격을 수정할 메뉴를 입력해주세요. >>> ')\n",
    "        price = ''    \n",
    "        while not price.isdecimal():\n",
    "            price = input('수정할 메뉴의 가격을 입력하세요. >>> ')\n",
    "        menu[name] = int(price)\n",
    "    \n",
    "    elif choice == '3':\n",
    "        print('------ menu ------')\n",
    "        for item in sorted(menu.items(),key=lambda x:x[1],reverse=True):\n",
    "            print(f'{item[0]} : {item[1]:,}') # f문자열포맷팅으로 천단위구분기호 넣는 기능 알아놓기.(점프투 파이썬에 이기능은 빠져있음)\n",
    "            \n",
    "    elif choice == '4':\n",
    "        print('현재메뉴 : ' , list(menu.keys()))\n",
    "        name = ''\n",
    "        while not name in menu.keys():\n",
    "            name = input('삭제하고자 하는 메뉴명을 입력해주세요. >>> ')\n",
    "        del menu[name]\n",
    "\n",
    "    elif choice == '5':\n",
    "        print('커피메뉴 관리프로그램을 종료합니다.')\n",
    "        break\n",
    "    \n",
    "    else:\n",
    "        print('1~5까지의 숫자를 입력하세요.\\n')"
   ]
  },
  {
   "cell_type": "raw",
   "id": "880ddf58-145d-4c86-9079-dda0d16ee8c7",
   "metadata": {},
   "source": [
    "quiz04 >\n",
    "quiz 03에 내용을 프로그램 시작시 읽어오고 프로그램 종료시에 저장"
   ]
  },
  {
   "cell_type": "code",
   "execution_count": 98,
   "id": "b96fcb85-9870-41a8-bcc2-f0dea8edb649",
   "metadata": {},
   "outputs": [],
   "source": [
    "menu = {'아메리카노':3000, '라떼':4000, '코코아':3500}"
   ]
  },
  {
   "cell_type": "code",
   "execution_count": 1,
   "id": "ec550a3e-be59-4832-bed9-73ca7b42d793",
   "metadata": {},
   "outputs": [
    {
     "ename": "JSONDecodeError",
     "evalue": "Expecting value: line 1 column 1 (char 0)",
     "output_type": "error",
     "traceback": [
      "\u001b[1;31m---------------------------------------------------------------------------\u001b[0m",
      "\u001b[1;31mJSONDecodeError\u001b[0m                           Traceback (most recent call last)",
      "\u001b[1;32m~\\AppData\\Local\\Temp/ipykernel_12588/3537894651.py\u001b[0m in \u001b[0;36m<module>\u001b[1;34m\u001b[0m\n\u001b[0;32m      1\u001b[0m \u001b[1;32mimport\u001b[0m \u001b[0mjson\u001b[0m\u001b[1;33m\u001b[0m\u001b[1;33m\u001b[0m\u001b[0m\n\u001b[0;32m      2\u001b[0m \u001b[0mf\u001b[0m \u001b[1;33m=\u001b[0m \u001b[0mopen\u001b[0m\u001b[1;33m(\u001b[0m\u001b[1;34m'menu.json'\u001b[0m\u001b[1;33m,\u001b[0m\u001b[1;34m'r'\u001b[0m\u001b[1;33m)\u001b[0m\u001b[1;33m\u001b[0m\u001b[1;33m\u001b[0m\u001b[0m\n\u001b[1;32m----> 3\u001b[1;33m \u001b[0mdata\u001b[0m \u001b[1;33m=\u001b[0m \u001b[0mjson\u001b[0m\u001b[1;33m.\u001b[0m\u001b[0mload\u001b[0m\u001b[1;33m(\u001b[0m\u001b[0mf\u001b[0m\u001b[1;33m)\u001b[0m\u001b[1;33m\u001b[0m\u001b[1;33m\u001b[0m\u001b[0m\n\u001b[0m\u001b[0;32m      4\u001b[0m \u001b[0mf\u001b[0m\u001b[1;33m.\u001b[0m\u001b[0mclose\u001b[0m\u001b[1;33m(\u001b[0m\u001b[1;33m)\u001b[0m\u001b[1;33m\u001b[0m\u001b[1;33m\u001b[0m\u001b[0m\n\u001b[0;32m      5\u001b[0m \u001b[1;32mwhile\u001b[0m \u001b[1;32mTrue\u001b[0m\u001b[1;33m:\u001b[0m\u001b[1;33m\u001b[0m\u001b[1;33m\u001b[0m\u001b[0m\n",
      "\u001b[1;32m~\\anaconda3\\lib\\json\\__init__.py\u001b[0m in \u001b[0;36mload\u001b[1;34m(fp, cls, object_hook, parse_float, parse_int, parse_constant, object_pairs_hook, **kw)\u001b[0m\n\u001b[0;32m    291\u001b[0m     \u001b[0mkwarg\u001b[0m\u001b[1;33m;\u001b[0m \u001b[0motherwise\u001b[0m\u001b[0;31m \u001b[0m\u001b[0;31m`\u001b[0m\u001b[0;31m`\u001b[0m\u001b[0mJSONDecoder\u001b[0m\u001b[0;31m`\u001b[0m\u001b[0;31m`\u001b[0m \u001b[1;32mis\u001b[0m \u001b[0mused\u001b[0m\u001b[1;33m.\u001b[0m\u001b[1;33m\u001b[0m\u001b[1;33m\u001b[0m\u001b[0m\n\u001b[0;32m    292\u001b[0m     \"\"\"\n\u001b[1;32m--> 293\u001b[1;33m     return loads(fp.read(),\n\u001b[0m\u001b[0;32m    294\u001b[0m         \u001b[0mcls\u001b[0m\u001b[1;33m=\u001b[0m\u001b[0mcls\u001b[0m\u001b[1;33m,\u001b[0m \u001b[0mobject_hook\u001b[0m\u001b[1;33m=\u001b[0m\u001b[0mobject_hook\u001b[0m\u001b[1;33m,\u001b[0m\u001b[1;33m\u001b[0m\u001b[1;33m\u001b[0m\u001b[0m\n\u001b[0;32m    295\u001b[0m         \u001b[0mparse_float\u001b[0m\u001b[1;33m=\u001b[0m\u001b[0mparse_float\u001b[0m\u001b[1;33m,\u001b[0m \u001b[0mparse_int\u001b[0m\u001b[1;33m=\u001b[0m\u001b[0mparse_int\u001b[0m\u001b[1;33m,\u001b[0m\u001b[1;33m\u001b[0m\u001b[1;33m\u001b[0m\u001b[0m\n",
      "\u001b[1;32m~\\anaconda3\\lib\\json\\__init__.py\u001b[0m in \u001b[0;36mloads\u001b[1;34m(s, cls, object_hook, parse_float, parse_int, parse_constant, object_pairs_hook, **kw)\u001b[0m\n\u001b[0;32m    344\u001b[0m             \u001b[0mparse_int\u001b[0m \u001b[1;32mis\u001b[0m \u001b[1;32mNone\u001b[0m \u001b[1;32mand\u001b[0m \u001b[0mparse_float\u001b[0m \u001b[1;32mis\u001b[0m \u001b[1;32mNone\u001b[0m \u001b[1;32mand\u001b[0m\u001b[1;33m\u001b[0m\u001b[1;33m\u001b[0m\u001b[0m\n\u001b[0;32m    345\u001b[0m             parse_constant is None and object_pairs_hook is None and not kw):\n\u001b[1;32m--> 346\u001b[1;33m         \u001b[1;32mreturn\u001b[0m \u001b[0m_default_decoder\u001b[0m\u001b[1;33m.\u001b[0m\u001b[0mdecode\u001b[0m\u001b[1;33m(\u001b[0m\u001b[0ms\u001b[0m\u001b[1;33m)\u001b[0m\u001b[1;33m\u001b[0m\u001b[1;33m\u001b[0m\u001b[0m\n\u001b[0m\u001b[0;32m    347\u001b[0m     \u001b[1;32mif\u001b[0m \u001b[0mcls\u001b[0m \u001b[1;32mis\u001b[0m \u001b[1;32mNone\u001b[0m\u001b[1;33m:\u001b[0m\u001b[1;33m\u001b[0m\u001b[1;33m\u001b[0m\u001b[0m\n\u001b[0;32m    348\u001b[0m         \u001b[0mcls\u001b[0m \u001b[1;33m=\u001b[0m \u001b[0mJSONDecoder\u001b[0m\u001b[1;33m\u001b[0m\u001b[1;33m\u001b[0m\u001b[0m\n",
      "\u001b[1;32m~\\anaconda3\\lib\\json\\decoder.py\u001b[0m in \u001b[0;36mdecode\u001b[1;34m(self, s, _w)\u001b[0m\n\u001b[0;32m    335\u001b[0m \u001b[1;33m\u001b[0m\u001b[0m\n\u001b[0;32m    336\u001b[0m         \"\"\"\n\u001b[1;32m--> 337\u001b[1;33m         \u001b[0mobj\u001b[0m\u001b[1;33m,\u001b[0m \u001b[0mend\u001b[0m \u001b[1;33m=\u001b[0m \u001b[0mself\u001b[0m\u001b[1;33m.\u001b[0m\u001b[0mraw_decode\u001b[0m\u001b[1;33m(\u001b[0m\u001b[0ms\u001b[0m\u001b[1;33m,\u001b[0m \u001b[0midx\u001b[0m\u001b[1;33m=\u001b[0m\u001b[0m_w\u001b[0m\u001b[1;33m(\u001b[0m\u001b[0ms\u001b[0m\u001b[1;33m,\u001b[0m \u001b[1;36m0\u001b[0m\u001b[1;33m)\u001b[0m\u001b[1;33m.\u001b[0m\u001b[0mend\u001b[0m\u001b[1;33m(\u001b[0m\u001b[1;33m)\u001b[0m\u001b[1;33m)\u001b[0m\u001b[1;33m\u001b[0m\u001b[1;33m\u001b[0m\u001b[0m\n\u001b[0m\u001b[0;32m    338\u001b[0m         \u001b[0mend\u001b[0m \u001b[1;33m=\u001b[0m \u001b[0m_w\u001b[0m\u001b[1;33m(\u001b[0m\u001b[0ms\u001b[0m\u001b[1;33m,\u001b[0m \u001b[0mend\u001b[0m\u001b[1;33m)\u001b[0m\u001b[1;33m.\u001b[0m\u001b[0mend\u001b[0m\u001b[1;33m(\u001b[0m\u001b[1;33m)\u001b[0m\u001b[1;33m\u001b[0m\u001b[1;33m\u001b[0m\u001b[0m\n\u001b[0;32m    339\u001b[0m         \u001b[1;32mif\u001b[0m \u001b[0mend\u001b[0m \u001b[1;33m!=\u001b[0m \u001b[0mlen\u001b[0m\u001b[1;33m(\u001b[0m\u001b[0ms\u001b[0m\u001b[1;33m)\u001b[0m\u001b[1;33m:\u001b[0m\u001b[1;33m\u001b[0m\u001b[1;33m\u001b[0m\u001b[0m\n",
      "\u001b[1;32m~\\anaconda3\\lib\\json\\decoder.py\u001b[0m in \u001b[0;36mraw_decode\u001b[1;34m(self, s, idx)\u001b[0m\n\u001b[0;32m    353\u001b[0m             \u001b[0mobj\u001b[0m\u001b[1;33m,\u001b[0m \u001b[0mend\u001b[0m \u001b[1;33m=\u001b[0m \u001b[0mself\u001b[0m\u001b[1;33m.\u001b[0m\u001b[0mscan_once\u001b[0m\u001b[1;33m(\u001b[0m\u001b[0ms\u001b[0m\u001b[1;33m,\u001b[0m \u001b[0midx\u001b[0m\u001b[1;33m)\u001b[0m\u001b[1;33m\u001b[0m\u001b[1;33m\u001b[0m\u001b[0m\n\u001b[0;32m    354\u001b[0m         \u001b[1;32mexcept\u001b[0m \u001b[0mStopIteration\u001b[0m \u001b[1;32mas\u001b[0m \u001b[0merr\u001b[0m\u001b[1;33m:\u001b[0m\u001b[1;33m\u001b[0m\u001b[1;33m\u001b[0m\u001b[0m\n\u001b[1;32m--> 355\u001b[1;33m             \u001b[1;32mraise\u001b[0m \u001b[0mJSONDecodeError\u001b[0m\u001b[1;33m(\u001b[0m\u001b[1;34m\"Expecting value\"\u001b[0m\u001b[1;33m,\u001b[0m \u001b[0ms\u001b[0m\u001b[1;33m,\u001b[0m \u001b[0merr\u001b[0m\u001b[1;33m.\u001b[0m\u001b[0mvalue\u001b[0m\u001b[1;33m)\u001b[0m \u001b[1;32mfrom\u001b[0m \u001b[1;32mNone\u001b[0m\u001b[1;33m\u001b[0m\u001b[1;33m\u001b[0m\u001b[0m\n\u001b[0m\u001b[0;32m    356\u001b[0m         \u001b[1;32mreturn\u001b[0m \u001b[0mobj\u001b[0m\u001b[1;33m,\u001b[0m \u001b[0mend\u001b[0m\u001b[1;33m\u001b[0m\u001b[1;33m\u001b[0m\u001b[0m\n",
      "\u001b[1;31mJSONDecodeError\u001b[0m: Expecting value: line 1 column 1 (char 0)"
     ]
    }
   ],
   "source": [
    "import json\n",
    "f = open('menu.json','r')\n",
    "data = json.load(f)\n",
    "f.close()\n",
    "while True:\n",
    "    choice = input('''\n",
    "-------------------------------------------------------\n",
    "1.메뉴입력 2.메뉴수정 3.메뉴목록 4.메뉴삭제. 5.프로그램종료\n",
    "-------------------------------------------------------\n",
    "메뉴선택 >>> ''')\n",
    "    \n",
    "    if choice == '1':\n",
    "        print('현재메뉴 : ' , list(menu.keys()))\n",
    "        name = input('추가할 메뉴명을 입력하세요. >>> ')\n",
    "        price = 'a'\n",
    "        while not price.isdecimal():\n",
    "            price = input('추가할 메뉴의 가격을 입력하세요. >>> ')\n",
    "        menu[name] = int(price)\n",
    "        \n",
    "    elif choice == '2':\n",
    "        print('현재메뉴 : ' , list(menu.keys()))\n",
    "        name = ''\n",
    "        while not name in menu.keys():\n",
    "            name = input('가격을 수정할 메뉴를 입력해주세요. >>> ')\n",
    "        price = ''    \n",
    "        while not price.isdecimal():\n",
    "            price = input('수정할 메뉴의 가격을 입력하세요. >>> ')\n",
    "        menu[name] = int(price)\n",
    "    \n",
    "    elif choice == '3':\n",
    "        print('------ menu ------')\n",
    "        for item in sorted(menu.items(),key=lambda x:x[1],reverse=True):\n",
    "            print(f'{item[0]} : {item[1]:,}') # f문자열포맷팅으로 천단위구분기호 넣는 기능 알아놓기.(점프투 파이썬에 이기능은 빠져있음)\n",
    "            \n",
    "    elif choice == '4':\n",
    "        print('현재메뉴 : ' , list(menu.keys()))\n",
    "        name = ''\n",
    "        while not name in menu.keys():\n",
    "            name = input('삭제하고자 하는 메뉴명을 입력해주세요. >>> ')\n",
    "        del menu[name]\n",
    "\n",
    "    elif choice == '5':\n",
    "        print('커피메뉴 관리프로그램을 종료합니다.')\n",
    "        f = open('menu.json','w') #지금은 menu.json파일을 만들어놨으므로 오류가 안생기지만 json 파일없이 맨윗줄에서 json을 로드 해버리면 오류생길수 있음. 따라서 미리 open을 한번 해주고 load 해줘야함.\n",
    "        json.dump(menu,f)\n",
    "        f.close()\n",
    "        break\n",
    "    \n",
    "    else:\n",
    "        print('1~5까지의 숫자를 입력하세요.\\n')\n",
    "    "
   ]
  },
  {
   "cell_type": "code",
   "execution_count": 103,
   "id": "559a3eb9-fdde-4f8c-9078-971618c3cf81",
   "metadata": {},
   "outputs": [
    {
     "data": {
      "text/plain": [
       "{'아메리카노': 3000,\n",
       " '라떼': 4000,\n",
       " '코코아': 3500,\n",
       " '쿠키': 3000,\n",
       " '말차': 50320,\n",
       " '아메리카너': 2900}"
      ]
     },
     "execution_count": 103,
     "metadata": {},
     "output_type": "execute_result"
    }
   ],
   "source": [
    "menu"
   ]
  },
  {
   "cell_type": "code",
   "execution_count": 43,
   "id": "3522311c-8df5-436a-95cc-fafb4fca12ba",
   "metadata": {},
   "outputs": [],
   "source": [
    "file = open('hello.txt','w')"
   ]
  },
  {
   "cell_type": "code",
   "execution_count": 44,
   "id": "044992d8-22c8-4383-89a9-964615838784",
   "metadata": {},
   "outputs": [
    {
     "data": {
      "text/plain": [
       "16"
      ]
     },
     "execution_count": 44,
     "metadata": {},
     "output_type": "execute_result"
    }
   ],
   "source": [
    "file.write('hellWRWRo world!')"
   ]
  },
  {
   "cell_type": "code",
   "execution_count": 45,
   "id": "33af8988-c6b7-4ea2-9ed5-f8a49294e09b",
   "metadata": {},
   "outputs": [],
   "source": [
    "file.close()"
   ]
  },
  {
   "cell_type": "code",
   "execution_count": 57,
   "id": "ba1b6cdf-e29c-436c-bb48-e8c8b43207db",
   "metadata": {},
   "outputs": [],
   "source": [
    "file = open('hello.txt','r')\n",
    "text = file.readlines()"
   ]
  },
  {
   "cell_type": "code",
   "execution_count": 58,
   "id": "d2298dd0-2b8e-488b-8bf5-c69e120cb10f",
   "metadata": {},
   "outputs": [
    {
     "data": {
      "text/plain": [
       "['hellWRWRo world!\\n',\n",
       " 'hellWRWRo world!hellWRWRo world!\\n',\n",
       " 'hellWRWRo world!\\n',\n",
       " 'hellWRWRo world!\\n',\n",
       " 'hellWRWRo world!']"
      ]
     },
     "execution_count": 58,
     "metadata": {},
     "output_type": "execute_result"
    }
   ],
   "source": [
    "text"
   ]
  },
  {
   "cell_type": "code",
   "execution_count": 60,
   "id": "88f53230-00fa-4981-ac07-65439122a3f6",
   "metadata": {},
   "outputs": [],
   "source": [
    "file.close()"
   ]
  },
  {
   "cell_type": "code",
   "execution_count": 80,
   "id": "b9387119-23b9-46a1-a9f2-0be30e35052a",
   "metadata": {},
   "outputs": [],
   "source": [
    "import pickle"
   ]
  },
  {
   "cell_type": "code",
   "execution_count": 81,
   "id": "f3a2d1f1-b1df-4a69-b318-44a67faf18fc",
   "metadata": {},
   "outputs": [],
   "source": [
    "f = open('menu.pickle','wb')\n",
    "pickle.dump(menu,f)\n",
    "f.close()"
   ]
  },
  {
   "cell_type": "code",
   "execution_count": 85,
   "id": "e3753f6c-c398-47bd-b570-c4fd2ad4a505",
   "metadata": {},
   "outputs": [],
   "source": [
    "f = open('menu.pickle','rb')\n",
    "data = pickle.load(f)\n",
    "f.close()"
   ]
  },
  {
   "cell_type": "code",
   "execution_count": 86,
   "id": "8b1d6e3a-1805-4f73-8930-e7ddfd44a910",
   "metadata": {},
   "outputs": [
    {
     "data": {
      "text/plain": [
       "dict"
      ]
     },
     "execution_count": 86,
     "metadata": {},
     "output_type": "execute_result"
    }
   ],
   "source": [
    "type(data)"
   ]
  },
  {
   "cell_type": "code",
   "execution_count": 87,
   "id": "9bd9a779-1c76-4634-86fe-6ce15437b1de",
   "metadata": {},
   "outputs": [
    {
     "data": {
      "text/plain": [
       "{'아메리카노': 3000, '라떼': 4000, '코코아': 3500}"
      ]
     },
     "execution_count": 87,
     "metadata": {},
     "output_type": "execute_result"
    }
   ],
   "source": [
    "data"
   ]
  },
  {
   "cell_type": "code",
   "execution_count": 88,
   "id": "075e3a6e-caa3-444a-a6c6-2fecbe6d4045",
   "metadata": {},
   "outputs": [],
   "source": [
    "import json"
   ]
  },
  {
   "cell_type": "code",
   "execution_count": 89,
   "id": "b2f2137e-6a53-4520-bb49-8aabd57721ad",
   "metadata": {},
   "outputs": [],
   "source": [
    "f = open('menu.json','w')\n",
    "json.dump(menu,f)\n",
    "f.close()"
   ]
  },
  {
   "cell_type": "code",
   "execution_count": 90,
   "id": "acfefbfd-f937-4b0e-aa02-4c625a775b71",
   "metadata": {},
   "outputs": [],
   "source": [
    "f = open('menu.json','r')\n",
    "data = json.load(f)\n",
    "f.close()"
   ]
  },
  {
   "cell_type": "code",
   "execution_count": 91,
   "id": "c886ce87-4c39-4087-b332-0df0614855c2",
   "metadata": {},
   "outputs": [
    {
     "data": {
      "text/plain": [
       "dict"
      ]
     },
     "execution_count": 91,
     "metadata": {},
     "output_type": "execute_result"
    }
   ],
   "source": [
    "type(data)"
   ]
  },
  {
   "cell_type": "code",
   "execution_count": 79,
   "id": "65e71ccf-e416-4918-96ee-608c4820008b",
   "metadata": {},
   "outputs": [
    {
     "data": {
      "text/plain": [
       "{'아메리카노': 3000, '라떼': 4000, '코코아': 3500}"
      ]
     },
     "execution_count": 79,
     "metadata": {},
     "output_type": "execute_result"
    }
   ],
   "source": [
    "data"
   ]
  },
  {
   "cell_type": "raw",
   "id": "b66813d6-4287-42a2-bb55-008077cad049",
   "metadata": {},
   "source": [
    "quiz 5>\n",
    "타자게임\n",
    "- 데이터는 word = ['cat', 'dog', 'fox', 'monkey', 'mouse', 'mouse', 'panda', 'frog', 'snake', 'wolf']\n",
    "- 문제는 총 5문제가 나옵니다.\n",
    "- 나온 문제는 맞출때까지 계속 됩니다.\n",
    "- 문제를 맞추면 다음 문제가 나옵니다.\n",
    "- 걸린 시간을 보여줍니다."
   ]
  },
  {
   "cell_type": "code",
   "execution_count": 362,
   "id": "c5772235-180d-4029-966e-b0f7abdcf9e8",
   "metadata": {},
   "outputs": [],
   "source": [
    "import random"
   ]
  },
  {
   "cell_type": "code",
   "execution_count": 107,
   "id": "f589eb59-f038-41c3-a166-8e694dde4d9e",
   "metadata": {},
   "outputs": [],
   "source": [
    "word = ['cat', 'dog', 'fox', 'monkey', 'mouse', 'mouse', 'panda', 'frog', 'snake', 'wolf']"
   ]
  },
  {
   "cell_type": "code",
   "execution_count": 339,
   "id": "629e2853-17cc-47bb-becf-ab6e02645d72",
   "metadata": {},
   "outputs": [
    {
     "name": "stdout",
     "output_type": "stream",
     "text": [
      "panda\n",
      "wolf\n"
     ]
    }
   ],
   "source": [
    "print(random.choice(word))\n",
    "print(random.choice(word))"
   ]
  },
  {
   "cell_type": "code",
   "execution_count": 332,
   "id": "91457275-ddcc-4658-96d0-d3450982118b",
   "metadata": {},
   "outputs": [
    {
     "data": {
      "text/plain": [
       "'mouse'"
      ]
     },
     "execution_count": 332,
     "metadata": {},
     "output_type": "execute_result"
    }
   ],
   "source": [
    "word[random.randint(0,len(word)-1)]"
   ]
  },
  {
   "cell_type": "code",
   "execution_count": 378,
   "id": "ccb007f2-b894-4a82-9801-f99f06d6380c",
   "metadata": {},
   "outputs": [
    {
     "name": "stdout",
     "output_type": "stream",
     "text": [
      "-------\n",
      "타자게임\n",
      "-------\n"
     ]
    },
    {
     "name": "stdin",
     "output_type": "stream",
     "text": [
      "시작(enter) \n"
     ]
    },
    {
     "name": "stdout",
     "output_type": "stream",
     "text": [
      "\n",
      "1번 wolf\n"
     ]
    },
    {
     "name": "stdin",
     "output_type": "stream",
     "text": [
      "입력하세요 >>>  wolf\n"
     ]
    },
    {
     "name": "stdout",
     "output_type": "stream",
     "text": [
      "통과\n",
      "\n",
      "2번 mouse\n"
     ]
    },
    {
     "name": "stdin",
     "output_type": "stream",
     "text": [
      "입력하세요 >>>  mouse\n"
     ]
    },
    {
     "name": "stdout",
     "output_type": "stream",
     "text": [
      "통과\n",
      "\n",
      "3번 dog\n"
     ]
    },
    {
     "name": "stdin",
     "output_type": "stream",
     "text": [
      "입력하세요 >>>  dog\n"
     ]
    },
    {
     "name": "stdout",
     "output_type": "stream",
     "text": [
      "통과\n",
      "\n",
      "4번 dplphin\n"
     ]
    },
    {
     "name": "stdin",
     "output_type": "stream",
     "text": [
      "입력하세요 >>>  dplphin\n"
     ]
    },
    {
     "name": "stdout",
     "output_type": "stream",
     "text": [
      "통과\n",
      "\n",
      "5번 dog\n"
     ]
    },
    {
     "name": "stdin",
     "output_type": "stream",
     "text": [
      "입력하세요 >>>  dog\n"
     ]
    },
    {
     "name": "stdout",
     "output_type": "stream",
     "text": [
      "통과\n",
      "\n",
      "5문제를 모두 맞추셨습니다. 게임을 종료합니다.\n",
      "걸린시간9초\n"
     ]
    }
   ],
   "source": [
    "import random, time\n",
    "print('''-------\n",
    "타자게임\n",
    "-------''')\n",
    "point = 1\n",
    "input('시작(enter)')\n",
    "start = time.time()\n",
    "while point <=5:\n",
    "    question = random.choice(word)\n",
    "    print(f'\\n{point}번' , question) # f문자열포맷팅 기억하고 써먹자.\n",
    "    answer = input('입력하세요 >>> ')\n",
    "    if question == answer:\n",
    "        print('통과')\n",
    "        point = point + 1 #point += 1로 하면 더 간단함.\n",
    "    else:\n",
    "        print('다시 입력하세요')\n",
    "print('\\n5문제를 모두 맞추셨습니다. 게임을 종료합니다.')\n",
    "end = time.time()\n",
    "print(f'걸린시간{end-start:.0f}초')"
   ]
  },
  {
   "cell_type": "code",
   "execution_count": 344,
   "id": "cd4052cf-0c50-4043-8069-5f45e7043166",
   "metadata": {},
   "outputs": [
    {
     "ename": "NameError",
     "evalue": "name 'count' is not defined",
     "output_type": "error",
     "traceback": [
      "\u001b[1;31m---------------------------------------------------------------------------\u001b[0m",
      "\u001b[1;31mNameError\u001b[0m                                 Traceback (most recent call last)",
      "\u001b[1;32m~\\AppData\\Local\\Temp/ipykernel_14224/1332810635.py\u001b[0m in \u001b[0;36m<module>\u001b[1;34m\u001b[0m\n\u001b[1;32m----> 1\u001b[1;33m \u001b[0mcount\u001b[0m\u001b[1;33m\u001b[0m\u001b[1;33m\u001b[0m\u001b[0m\n\u001b[0m",
      "\u001b[1;31mNameError\u001b[0m: name 'count' is not defined"
     ]
    }
   ],
   "source": [
    "count"
   ]
  },
  {
   "cell_type": "code",
   "execution_count": 345,
   "id": "181a0105-39fe-4eb9-b2dd-134b81a1f738",
   "metadata": {},
   "outputs": [
    {
     "data": {
      "text/plain": [
       "0"
      ]
     },
     "execution_count": 345,
     "metadata": {},
     "output_type": "execute_result"
    }
   ],
   "source": [
    "point"
   ]
  },
  {
   "cell_type": "raw",
   "id": "49215e8e-556e-4f14-a89e-2523a8c35690",
   "metadata": {},
   "source": [
    "quiz 6>\n",
    "앞에 타자 게임을 활용\n",
    "- 1.문제추가 2.타자게임 3.등수리스트 4.종료하기\n",
    "- 문제추가 후 데이터는 파일 저장\n",
    "- 문제추가는 단어를 입력받아서 중복되지 않게 추가\n",
    "- 타자게임은 시간을 체크하고, 걸린시간을 사용자명과 함께 저장합니다. (딕셔너리로 저장)\n",
    "- 등수리스트는 걸린시간이 적은 순서대로 정렬해서 출력합니다.\n",
    "- 종료하기는 등수데이타를 저장하고 진행합니다.\n",
    "- 프로그램이 시작될때 문제와 등수정보를 읽어옵니다."
   ]
  },
  {
   "cell_type": "code",
   "execution_count": 367,
   "id": "94c9b8e2-b351-4aad-8811-5b81af00044e",
   "metadata": {},
   "outputs": [
    {
     "name": "stdin",
     "output_type": "stream",
     "text": [
      "1.문제추가 2.타자게임 3.등수리스트 4.종료하기 >>>  1\n"
     ]
    },
    {
     "data": {
      "text/plain": [
       "'1'"
      ]
     },
     "execution_count": 367,
     "metadata": {},
     "output_type": "execute_result"
    }
   ],
   "source": [
    "input('1.문제추가 2.타자게임 3.등수리스트 4.종료하기 >>> ')\n"
   ]
  },
  {
   "cell_type": "code",
   "execution_count": 422,
   "id": "f3c4720e-bd5a-4c5e-b7d5-2f103a1fa6bb",
   "metadata": {},
   "outputs": [],
   "source": [
    "ranking = { '0' : '0' }\n",
    "del ranking['0']\n",
    "f = open('ranking.json','w') #지금은 menu.json파일을 만들어놨으므로 오류가 안생기지만 json 파일없이 맨윗줄에서 json을 로드 해버리면 오류생길수 있음. 따라서 미리 open을 한번 해주고 load 해줘야함.\n",
    "json.dump(ranking,f)\n",
    "f.close()"
   ]
  },
  {
   "cell_type": "code",
   "execution_count": 453,
   "id": "e246d120-3ee3-451a-8b29-697c44a7fb2c",
   "metadata": {},
   "outputs": [
    {
     "name": "stdin",
     "output_type": "stream",
     "text": [
      "1.문제추가 2.타자게임 3.등수리스트 4.종료하기 >>>  3\n"
     ]
    },
    {
     "name": "stdout",
     "output_type": "stream",
     "text": [
      "------ ranking ------\n",
      "1 희준2\n",
      "1 희준3\n",
      "1 희준6\n",
      "1 희준4\n",
      "1 희준1\n",
      "1 희준5\n"
     ]
    },
    {
     "name": "stdin",
     "output_type": "stream",
     "text": [
      "1.문제추가 2.타자게임 3.등수리스트 4.종료하기 >>>  4\n"
     ]
    },
    {
     "name": "stdout",
     "output_type": "stream",
     "text": [
      "타자게임을 종료합니다.\n"
     ]
    }
   ],
   "source": [
    "import json, time\n",
    "word = ['cat', 'dog', 'fox', 'monkey', 'mouse', 'mouse', 'panda', 'frog', 'snake', 'wolf']\n",
    "f = open('ranking.json','r')\n",
    "rank = json.load(f)\n",
    "f.close()\n",
    "while True:\n",
    "    choice = input('1.문제추가 2.타자게임 3.등수리스트 4.종료하기 >>> ')\n",
    "    \n",
    "    if choice == '1':\n",
    "        print('현재문제 : ' , word)\n",
    "        quiz = ''\n",
    "        while not quiz.isalpha():\n",
    "            quiz = input('추가할 문제를 입력하세요. >>> ')\n",
    "        word.append(quiz)\n",
    "        \n",
    "    elif choice == '2':\n",
    "        print('''-------\n",
    "타자게임\n",
    "-------''')\n",
    "        point = 1\n",
    "        input('시작(enter)')\n",
    "        start = time.time()\n",
    "        while point <=5:\n",
    "            quiz = random.choice(word)\n",
    "            print(f'\\n{point}번' , quiz) # f문자열포맷팅 기억하고 써먹자.\n",
    "            answer = input('입력하세요 >>> ')\n",
    "            if quiz == answer:\n",
    "                print('통과')\n",
    "                point = point + 1 #point += 1로 하면 더 간단함.\n",
    "            else:\n",
    "                print('다시 입력하세요')\n",
    "        print('\\n5문제를 모두 맞추셨습니다. 게임을 종료합니다.')\n",
    "        end = time.time()\n",
    "        print(f'걸린시간{end-start:.0f}초')\n",
    "        name = input('이름을 입력해주세요. >>> ')\n",
    "        ranking[name] = int(end-start)\n",
    "    \n",
    "    elif choice == '3':\n",
    "        print('------ ranking ------')\n",
    "        for item in sorted(ranking.items(),key=lambda x:x[1],):\n",
    "            n=1\n",
    "            print('%d'%n,f'{item[0]}') # f문자열포맷팅으로 천단위구분기호 넣는 기능 알아놓기.(점프투 파이썬에 이기능은 빠져있음)\n",
    "            n+=1\n",
    "    elif choice == '4':\n",
    "        print('타자게임을 종료합니다.')\n",
    "        f = open('ranking.json','w') #지금은 menu.json파일을 만들어놨으므로 오류가 안생기지만 json 파일없이 맨윗줄에서 json을 로드 해버리면 오류생길수 있음. 따라서 미리 open을 한번 해주고 load 해줘야함.\n",
    "        json.dump(ranking,f)\n",
    "        f.close()\n",
    "        break\n",
    "    \n",
    "    else:\n",
    "        print('1~4까지의 숫자를 입력하세요.\\n')    "
   ]
  },
  {
   "cell_type": "code",
   "execution_count": 516,
   "id": "84bc9c44-7e0a-4429-bf69-a5f94e1d69b5",
   "metadata": {},
   "outputs": [
    {
     "name": "stdin",
     "output_type": "stream",
     "text": [
      "1.문제추가 2.타자게임 3.등수리스트 4.종료하기 >>>  3\n"
     ]
    },
    {
     "name": "stdout",
     "output_type": "stream",
     "text": [
      "------ ranking ------\n"
     ]
    },
    {
     "ename": "KeyboardInterrupt",
     "evalue": "Interrupted by user",
     "output_type": "error",
     "traceback": [
      "\u001b[1;31m---------------------------------------------------------------------------\u001b[0m",
      "\u001b[1;31mKeyboardInterrupt\u001b[0m                         Traceback (most recent call last)",
      "\u001b[1;32m~\\AppData\\Local\\Temp/ipykernel_14224/4229230669.py\u001b[0m in \u001b[0;36m<module>\u001b[1;34m\u001b[0m\n\u001b[0;32m      7\u001b[0m \u001b[0mf\u001b[0m\u001b[1;33m.\u001b[0m\u001b[0mclose\u001b[0m\u001b[1;33m(\u001b[0m\u001b[1;33m)\u001b[0m\u001b[1;33m\u001b[0m\u001b[1;33m\u001b[0m\u001b[0m\n\u001b[0;32m      8\u001b[0m \u001b[1;32mwhile\u001b[0m \u001b[1;32mTrue\u001b[0m\u001b[1;33m:\u001b[0m\u001b[1;33m\u001b[0m\u001b[1;33m\u001b[0m\u001b[0m\n\u001b[1;32m----> 9\u001b[1;33m     \u001b[0mchoice\u001b[0m \u001b[1;33m=\u001b[0m \u001b[0minput\u001b[0m\u001b[1;33m(\u001b[0m\u001b[1;34m'1.문제추가 2.타자게임 3.등수리스트 4.종료하기 >>> '\u001b[0m\u001b[1;33m)\u001b[0m\u001b[1;33m\u001b[0m\u001b[1;33m\u001b[0m\u001b[0m\n\u001b[0m\u001b[0;32m     10\u001b[0m \u001b[1;33m\u001b[0m\u001b[0m\n\u001b[0;32m     11\u001b[0m     \u001b[1;32mif\u001b[0m \u001b[0mchoice\u001b[0m \u001b[1;33m==\u001b[0m \u001b[1;34m'1'\u001b[0m\u001b[1;33m:\u001b[0m\u001b[1;33m\u001b[0m\u001b[1;33m\u001b[0m\u001b[0m\n",
      "\u001b[1;32m~\\anaconda3\\lib\\site-packages\\ipykernel\\kernelbase.py\u001b[0m in \u001b[0;36mraw_input\u001b[1;34m(self, prompt)\u001b[0m\n\u001b[0;32m   1004\u001b[0m                 \u001b[1;34m\"raw_input was called, but this frontend does not support input requests.\"\u001b[0m\u001b[1;33m\u001b[0m\u001b[1;33m\u001b[0m\u001b[0m\n\u001b[0;32m   1005\u001b[0m             )\n\u001b[1;32m-> 1006\u001b[1;33m         return self._input_request(\n\u001b[0m\u001b[0;32m   1007\u001b[0m             \u001b[0mstr\u001b[0m\u001b[1;33m(\u001b[0m\u001b[0mprompt\u001b[0m\u001b[1;33m)\u001b[0m\u001b[1;33m,\u001b[0m\u001b[1;33m\u001b[0m\u001b[1;33m\u001b[0m\u001b[0m\n\u001b[0;32m   1008\u001b[0m             \u001b[0mself\u001b[0m\u001b[1;33m.\u001b[0m\u001b[0m_parent_ident\u001b[0m\u001b[1;33m[\u001b[0m\u001b[1;34m\"shell\"\u001b[0m\u001b[1;33m]\u001b[0m\u001b[1;33m,\u001b[0m\u001b[1;33m\u001b[0m\u001b[1;33m\u001b[0m\u001b[0m\n",
      "\u001b[1;32m~\\anaconda3\\lib\\site-packages\\ipykernel\\kernelbase.py\u001b[0m in \u001b[0;36m_input_request\u001b[1;34m(self, prompt, ident, parent, password)\u001b[0m\n\u001b[0;32m   1049\u001b[0m             \u001b[1;32mexcept\u001b[0m \u001b[0mKeyboardInterrupt\u001b[0m\u001b[1;33m:\u001b[0m\u001b[1;33m\u001b[0m\u001b[1;33m\u001b[0m\u001b[0m\n\u001b[0;32m   1050\u001b[0m                 \u001b[1;31m# re-raise KeyboardInterrupt, to truncate traceback\u001b[0m\u001b[1;33m\u001b[0m\u001b[1;33m\u001b[0m\u001b[0m\n\u001b[1;32m-> 1051\u001b[1;33m                 \u001b[1;32mraise\u001b[0m \u001b[0mKeyboardInterrupt\u001b[0m\u001b[1;33m(\u001b[0m\u001b[1;34m\"Interrupted by user\"\u001b[0m\u001b[1;33m)\u001b[0m \u001b[1;32mfrom\u001b[0m \u001b[1;32mNone\u001b[0m\u001b[1;33m\u001b[0m\u001b[1;33m\u001b[0m\u001b[0m\n\u001b[0m\u001b[0;32m   1052\u001b[0m             \u001b[1;32mexcept\u001b[0m \u001b[0mException\u001b[0m\u001b[1;33m:\u001b[0m\u001b[1;33m\u001b[0m\u001b[1;33m\u001b[0m\u001b[0m\n\u001b[0;32m   1053\u001b[0m                 \u001b[0mself\u001b[0m\u001b[1;33m.\u001b[0m\u001b[0mlog\u001b[0m\u001b[1;33m.\u001b[0m\u001b[0mwarning\u001b[0m\u001b[1;33m(\u001b[0m\u001b[1;34m\"Invalid Message:\"\u001b[0m\u001b[1;33m,\u001b[0m \u001b[0mexc_info\u001b[0m\u001b[1;33m=\u001b[0m\u001b[1;32mTrue\u001b[0m\u001b[1;33m)\u001b[0m\u001b[1;33m\u001b[0m\u001b[1;33m\u001b[0m\u001b[0m\n",
      "\u001b[1;31mKeyboardInterrupt\u001b[0m: Interrupted by user"
     ]
    }
   ],
   "source": [
    "import random, json, time\n",
    "word = ['cat', 'dog', 'fox', 'monkey', 'mouse', 'mouse', 'panda', 'frog', 'snake', 'wolf']\n",
    "ranking = { '0' : '0' }\n",
    "del ranking['0']\n",
    "f = open('ranking.json','r')\n",
    "rank = json.load(f)\n",
    "f.close()\n",
    "while True:\n",
    "    choice = input('1.문제추가 2.타자게임 3.등수리스트 4.종료하기 >>> ')\n",
    "    \n",
    "    if choice == '1':\n",
    "        print('현재문제 : ' , word)\n",
    "        quiz = ''\n",
    "        while not quiz.isalpha():\n",
    "            quiz = input('추가할 문제를 입력하세요. >>> ')\n",
    "        word.append(quiz)\n",
    "        \n",
    "    elif choice == '2':\n",
    "        print('''-------\n",
    "타자게임\n",
    "-------''')\n",
    "        point = 1\n",
    "        input('시작(enter)')\n",
    "        start = time.time()\n",
    "        while point <=5:\n",
    "            quiz = random.choice(word)\n",
    "            print(f'\\n{point}번' , quiz) # f문자열포맷팅 기억하고 써먹자.\n",
    "            answer = input('입력하세요 >>> ')\n",
    "            if quiz == answer:\n",
    "                print('통과')\n",
    "                point = point + 1 #point += 1로 하면 더 간단함.\n",
    "            else:\n",
    "                print('다시 입력하세요')\n",
    "        print('\\n5문제를 모두 맞추셨습니다. 게임을 종료합니다.')\n",
    "        end = time.time()\n",
    "        print(f'걸린시간{end-start:.0f}초')\n",
    "        name = input('이름을 입력해주세요. >>> ')\n",
    "        while name in ranking:\n",
    "            print('사용자명이 중복됩니다.')\n",
    "            name = input('이름을 입력해주세요. >>> ')\n",
    "        ranking[name] = end-start\n",
    "        print(ranking)\n",
    "        \n",
    "    elif choice == '3':\n",
    "        print('------ ranking ------')\n",
    "        for item in sorted(ranking.items(),key=lambda x:x[1],):\n",
    "            print(f'{item[0]}') # f문자열포맷팅으로 천단위구분기호 넣는 기능 알아놓기.(점프투 파이썬에 이기능은 빠져있음)\n",
    "            \n",
    "    elif choice == '4':\n",
    "        print('타자게임을 종료합니다.')\n",
    "        f = open('ranking.json','w') #지금은 menu.json파일을 만들어놨으므로 오류가 안생기지만 json 파일없이 맨윗줄에서 json을 로드 해버리면 오류생길수 있음. 따라서 미리 open을 한번 해주고 load 해줘야함.\n",
    "        json.dump(ranking,f)\n",
    "        f.close()\n",
    "        break\n",
    "    \n",
    "    else:\n",
    "        print('1~4까지의 숫자를 입력하세요.\\n')    "
   ]
  },
  {
   "cell_type": "raw",
   "id": "4a8219e8-8902-4f3f-8c2e-86f267345e7b",
   "metadata": {},
   "source": [
    "f = open('ranking.json','w')\n",
    "json.dump(ranking,f)\n",
    "f.close()\n",
    "\n",
    "위에 코드를 아래 코드로 짧게 변경가능\n",
    "\n",
    "with open('ranking.json','w') as f:\n",
    "    json.dump(ranking,f)"
   ]
  },
  {
   "cell_type": "code",
   "execution_count": 522,
   "id": "1a9ac05f-8047-475d-a190-8ce4d36890d4",
   "metadata": {},
   "outputs": [
    {
     "name": "stdin",
     "output_type": "stream",
     "text": [
      "1.문제추가 2.타자게임 3.등수리스트 4.종료하기 >>>  3\n"
     ]
    },
    {
     "name": "stdout",
     "output_type": "stream",
     "text": [
      "------ ranking ------\n",
      "1등 희준1 1.74\n",
      "2등 희준2 4.51\n"
     ]
    },
    {
     "name": "stdin",
     "output_type": "stream",
     "text": [
      "1.문제추가 2.타자게임 3.등수리스트 4.종료하기 >>>  4\n"
     ]
    },
    {
     "name": "stdout",
     "output_type": "stream",
     "text": [
      "타자게임을 종료합니다.\n"
     ]
    }
   ],
   "source": [
    "import random, json, time\n",
    "with open('ranking.json','r') as f:\n",
    "    rank = json.load(f)\n",
    "with open('word.json','r') as f:\n",
    "    word = json.load(f)\n",
    "while True:\n",
    "    choice = input('1.문제추가 2.타자게임 3.등수리스트 4.종료하기 >>> ')\n",
    "    \n",
    "    if choice == '1':\n",
    "        print('현재문제 : ' , word)\n",
    "        while True:\n",
    "            quiz = input('추가할 문제를 입력하세요. >>> ')\n",
    "            while quiz in word:\n",
    "                quiz = input('중복된 단어 입니다. 다시 추가할 문제를 입력하세요.(종료 : 0) >>> ')\n",
    "            if quiz == '0':\n",
    "                break\n",
    "            word.append(quiz)\n",
    "            print(word)\n",
    "        with open('word.json','w') as f:\n",
    "            json.dump(word,f)\n",
    "\n",
    "    elif choice == '2':\n",
    "        print('''-------\n",
    "타자게임\n",
    "-------''')\n",
    "        point = 1\n",
    "        input('시작(enter)')\n",
    "        start = time.time()\n",
    "        while point <=1:\n",
    "            quiz = random.choice(word)\n",
    "            print(f'\\n{point}번' , quiz) # f문자열포맷팅 기억하고 써먹자.\n",
    "            answer = input('입력하세요 >>> ')\n",
    "            if quiz == answer:\n",
    "                print('통과')\n",
    "                point = point + 1 #point += 1로 하면 더 간단함.\n",
    "            else:\n",
    "                print('다시 입력하세요')\n",
    "        print('\\n5문제를 모두 맞추셨습니다. 게임을 종료합니다.')\n",
    "        end = time.time()\n",
    "        print(f'걸린시간{end-start:.0f}초')\n",
    "        name = input('이름을 입력해주세요. >>> ')\n",
    "        while name in ranking:\n",
    "            print('사용자명이 중복됩니다.')\n",
    "            name = input('이름을 입력해주세요. >>> ')\n",
    "        ranking[name] = end-start\n",
    "        print(ranking)\n",
    "        \n",
    "    elif choice == '3':\n",
    "        print('------ ranking ------')\n",
    "        ranklist = sorted(ranking.items(),key=lambda x:x[1],)\n",
    "        for index,(k,v) in enumerate(ranklist):\n",
    "            print(f'{index+1}등 {k} {v:.2f}')\n",
    "            \n",
    "    elif choice == '4':\n",
    "        print('타자게임을 종료합니다.')\n",
    "        f = open('ranking.json','w')\n",
    "        json.dump(ranking,f)\n",
    "        f.close()\n",
    "        break\n",
    "    \n",
    "    else:\n",
    "        print('1~4까지의 숫자를 입력하세요.\\n')    "
   ]
  },
  {
   "cell_type": "code",
   "execution_count": 510,
   "id": "fd3ff14d-949b-4dd0-a933-6f9b32e09c3d",
   "metadata": {},
   "outputs": [
    {
     "data": {
      "text/plain": [
       "2"
      ]
     },
     "execution_count": 510,
     "metadata": {},
     "output_type": "execute_result"
    }
   ],
   "source": [
    "len(rr)"
   ]
  },
  {
   "cell_type": "code",
   "execution_count": 488,
   "id": "ad23a511-1dde-42cd-8cb4-4b489d244df1",
   "metadata": {},
   "outputs": [
    {
     "data": {
      "text/plain": [
       "'희준2'"
      ]
     },
     "execution_count": 502,
     "metadata": {},
     "output_type": "execute_result"
    }
   ],
   "source": [
    "del word[14]"
   ]
  },
  {
   "cell_type": "code",
   "execution_count": null,
   "id": "d03a5254-48cc-43ed-8af3-d1c2a4741d57",
   "metadata": {},
   "outputs": [],
   "source": [
    "-일주일\n"
   ]
  }
 ],
 "metadata": {
  "kernelspec": {
   "display_name": "Python 3 (ipykernel)",
   "language": "python",
   "name": "python3"
  },
  "language_info": {
   "codemirror_mode": {
    "name": "ipython",
    "version": 3
   },
   "file_extension": ".py",
   "mimetype": "text/x-python",
   "name": "python",
   "nbconvert_exporter": "python",
   "pygments_lexer": "ipython3",
   "version": "3.9.7"
  }
 },
 "nbformat": 4,
 "nbformat_minor": 5
}
