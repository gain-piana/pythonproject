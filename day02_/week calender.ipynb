{
 "cells": [
  {
   "cell_type": "raw",
   "id": "03712300-4db6-4f22-b1a5-3d7d0920ec93",
   "metadata": {},
   "source": [
    "1.일정확인\n",
    "2.일정추가\n",
    "3.일정삭제\n",
    "4.프로그램종료"
   ]
  },
  {
   "cell_type": "code",
   "execution_count": 55,
   "id": "b1ddd6ec-1acd-4830-b70c-820b89de93d5",
   "metadata": {},
   "outputs": [
    {
     "name": "stdin",
     "output_type": "stream",
     "text": [
      "\n",
      "-------------------------------------------------------\n",
      "1.일정입력 2.일정수정 3.일정확인 4.일정삭제. 5.프로그램종료\n",
      "-------------------------------------------------------\n",
      "메뉴선택 >>>  1\n",
      "요일을 선택하세요.\n",
      "ex) mon, tue, wed, thr, fri , sat, sun\n",
      ">>> mon\n"
     ]
    },
    {
     "name": "stdout",
     "output_type": "stream",
     "text": [
      "현재일정 :  {}\n"
     ]
    },
    {
     "name": "stdin",
     "output_type": "stream",
     "text": [
      "추가할 시간을 입력하세요.(종료는 q)>>>  17\n",
      "추가할 일정을 입력하세요. >>>  컴\n"
     ]
    },
    {
     "name": "stdout",
     "output_type": "stream",
     "text": [
      "{'17': '컴'}\n"
     ]
    },
    {
     "ename": "KeyboardInterrupt",
     "evalue": "Interrupted by user",
     "output_type": "error",
     "traceback": [
      "\u001b[1;31m---------------------------------------------------------------------------\u001b[0m",
      "\u001b[1;31mKeyboardInterrupt\u001b[0m                         Traceback (most recent call last)",
      "\u001b[1;32m~\\AppData\\Local\\Temp/ipykernel_14124/3079835496.py\u001b[0m in \u001b[0;36m<module>\u001b[1;34m\u001b[0m\n\u001b[0;32m     16\u001b[0m     \u001b[1;32mif\u001b[0m \u001b[0mchoice\u001b[0m \u001b[1;33m==\u001b[0m \u001b[1;34m'1'\u001b[0m\u001b[1;33m:\u001b[0m\u001b[1;33m\u001b[0m\u001b[1;33m\u001b[0m\u001b[0m\n\u001b[0;32m     17\u001b[0m         \u001b[1;32mwhile\u001b[0m \u001b[1;32mTrue\u001b[0m\u001b[1;33m:\u001b[0m\u001b[1;33m\u001b[0m\u001b[1;33m\u001b[0m\u001b[0m\n\u001b[1;32m---> 18\u001b[1;33m             days = input('''요일을 선택하세요.\n\u001b[0m\u001b[0;32m     19\u001b[0m ex) mon, tue, wed, thr, fri , sat, sun\n\u001b[0;32m     20\u001b[0m >>>''')\n",
      "\u001b[1;32m~\\anaconda3\\lib\\site-packages\\ipykernel\\kernelbase.py\u001b[0m in \u001b[0;36mraw_input\u001b[1;34m(self, prompt)\u001b[0m\n\u001b[0;32m   1004\u001b[0m                 \u001b[1;34m\"raw_input was called, but this frontend does not support input requests.\"\u001b[0m\u001b[1;33m\u001b[0m\u001b[1;33m\u001b[0m\u001b[0m\n\u001b[0;32m   1005\u001b[0m             )\n\u001b[1;32m-> 1006\u001b[1;33m         return self._input_request(\n\u001b[0m\u001b[0;32m   1007\u001b[0m             \u001b[0mstr\u001b[0m\u001b[1;33m(\u001b[0m\u001b[0mprompt\u001b[0m\u001b[1;33m)\u001b[0m\u001b[1;33m,\u001b[0m\u001b[1;33m\u001b[0m\u001b[1;33m\u001b[0m\u001b[0m\n\u001b[0;32m   1008\u001b[0m             \u001b[0mself\u001b[0m\u001b[1;33m.\u001b[0m\u001b[0m_parent_ident\u001b[0m\u001b[1;33m[\u001b[0m\u001b[1;34m\"shell\"\u001b[0m\u001b[1;33m]\u001b[0m\u001b[1;33m,\u001b[0m\u001b[1;33m\u001b[0m\u001b[1;33m\u001b[0m\u001b[0m\n",
      "\u001b[1;32m~\\anaconda3\\lib\\site-packages\\ipykernel\\kernelbase.py\u001b[0m in \u001b[0;36m_input_request\u001b[1;34m(self, prompt, ident, parent, password)\u001b[0m\n\u001b[0;32m   1049\u001b[0m             \u001b[1;32mexcept\u001b[0m \u001b[0mKeyboardInterrupt\u001b[0m\u001b[1;33m:\u001b[0m\u001b[1;33m\u001b[0m\u001b[1;33m\u001b[0m\u001b[0m\n\u001b[0;32m   1050\u001b[0m                 \u001b[1;31m# re-raise KeyboardInterrupt, to truncate traceback\u001b[0m\u001b[1;33m\u001b[0m\u001b[1;33m\u001b[0m\u001b[0m\n\u001b[1;32m-> 1051\u001b[1;33m                 \u001b[1;32mraise\u001b[0m \u001b[0mKeyboardInterrupt\u001b[0m\u001b[1;33m(\u001b[0m\u001b[1;34m\"Interrupted by user\"\u001b[0m\u001b[1;33m)\u001b[0m \u001b[1;32mfrom\u001b[0m \u001b[1;32mNone\u001b[0m\u001b[1;33m\u001b[0m\u001b[1;33m\u001b[0m\u001b[0m\n\u001b[0m\u001b[0;32m   1052\u001b[0m             \u001b[1;32mexcept\u001b[0m \u001b[0mException\u001b[0m\u001b[1;33m:\u001b[0m\u001b[1;33m\u001b[0m\u001b[1;33m\u001b[0m\u001b[0m\n\u001b[0;32m   1053\u001b[0m                 \u001b[0mself\u001b[0m\u001b[1;33m.\u001b[0m\u001b[0mlog\u001b[0m\u001b[1;33m.\u001b[0m\u001b[0mwarning\u001b[0m\u001b[1;33m(\u001b[0m\u001b[1;34m\"Invalid Message:\"\u001b[0m\u001b[1;33m,\u001b[0m \u001b[0mexc_info\u001b[0m\u001b[1;33m=\u001b[0m\u001b[1;32mTrue\u001b[0m\u001b[1;33m)\u001b[0m\u001b[1;33m\u001b[0m\u001b[1;33m\u001b[0m\u001b[0m\n",
      "\u001b[1;31mKeyboardInterrupt\u001b[0m: Interrupted by user"
     ]
    }
   ],
   "source": [
    "weeks = ['mon', 'tue', 'wed', 'thr', 'fri' , 'sat', 'sun']\n",
    "mon ={}\n",
    "tue ={}\n",
    "wed={}\n",
    "thr={}\n",
    "fri={}\n",
    "sat={}\n",
    "sun={}\n",
    "while True:\n",
    "    choice = input('''\n",
    "-------------------------------------------------------\n",
    "1.일정입력 2.일정수정 3.일정확인 4.일정삭제. 5.프로그램종료\n",
    "-------------------------------------------------------\n",
    "메뉴선택 >>> ''')\n",
    "    \n",
    "    if choice == '1':\n",
    "        while True:\n",
    "            days = input('''요일을 선택하세요.\n",
    "ex) mon, tue, wed, thr, fri , sat, sun\n",
    ">>>''')\n",
    "            if days == 'mon':\n",
    "                print('현재일정 : ' , mon)\n",
    "                ti = input(\"추가할 시간을 입력하세요.(종료는 q)>>> \")\n",
    "                name = input('추가할 일정을 입력하세요. >>> ')\n",
    "                mon[ti] = name\n",
    "                print(mon)\n",
    "                \n",
    "            if days == 'tue':\n",
    "                print('현재일정 : ' , tue)\n",
    "                name = input('추가할 일정을 입력하세요. >>> ')\n",
    "                tue.append(name)\n",
    "                break\n",
    "            if days == 'wed':\n",
    "                print('현재일정 : ' , wed)\n",
    "                name = input('추가할 일정을 입력하세요. >>> ')\n",
    "                wed.append(name)\n",
    "                break\n",
    "            if days == 'thr':\n",
    "                print('현재일정 : ' , thr)\n",
    "                name = input('추가할 일정을 입력하세요. >>> ')\n",
    "                thr.append(name)\n",
    "                break\n",
    "            if days == 'fri':\n",
    "                print('현재일정 : ' , fri)\n",
    "                name = input('추가할 일정을 입력하세요. >>> ')\n",
    "                fri.append(name)\n",
    "                break\n",
    "            if days == 'sat':\n",
    "                print('현재일정 : ' , sat)\n",
    "                name = input('추가할 일정을 입력하세요. >>> ')\n",
    "                sat.append(name)\n",
    "                break\n",
    "            if days == 'sun':\n",
    "                print('현재일정 : ' , sun)\n",
    "                name = input('추가할 일정을 입력하세요. >>> ')\n",
    "                sun.append(name)\n",
    "                break\n",
    "            \n",
    "                \n",
    "    elif choice == '2':\n",
    "        print('현재일정 : ' , list(menu.keys()))\n",
    "        name = ''\n",
    "        while not name in menu.keys():\n",
    "            name = input('가격을 수정할 메뉴를 입력해주세요. >>> ')\n",
    "        price = ''    \n",
    "        while not price.isdecimal():\n",
    "            price = input('수정할 메뉴의 가격을 입력하세요. >>> ')\n",
    "        menu[name] = int(price)\n",
    "    \n",
    "    elif choice == '3':\n",
    "        print('------ menu ------')\n",
    "        for item in sorted(menu.items(),key=lambda x:x[1],reverse=True):\n",
    "            print(f'{item[0]} : {item[1]:,}') # f문자열포맷팅으로 천단위구분기호 넣는 기능 알아놓기.(점프투 파이썬에 이기능은 빠져있음)\n",
    "            \n",
    "    elif choice == '4':\n",
    "        print('현재메뉴 : ' , list(menu.keys()))\n",
    "        name = ''\n",
    "        while not name in menu.keys():\n",
    "            name = input('삭제하고자 하는 메뉴명을 입력해주세요. >>> ')\n",
    "        del menu[name]\n",
    "\n",
    "    elif choice == '5':\n",
    "        print('커피메뉴 관리프로그램을 종료합니다.')\n",
    "        f = open('menu.json','w') #지금은 menu.json파일을 만들어놨으므로 오류가 안생기지만 json 파일없이 맨윗줄에서 json을 로드 해버리면 오류생길수 있음. 따라서 미리 open을 한번 해주고 load 해줘야함.\n",
    "        json.dump(menu,f)\n",
    "        f.close()\n",
    "        break\n",
    "    \n",
    "    else:\n",
    "        print('1~5까지의 숫자를 입력하세요.\\n')\n",
    "    "
   ]
  },
  {
   "cell_type": "code",
   "execution_count": 51,
   "id": "3c44d2b4-77fe-4ece-8e12-7df68b6965be",
   "metadata": {},
   "outputs": [
    {
     "data": {
      "text/plain": [
       "{'17': '컴'}"
      ]
     },
     "execution_count": 51,
     "metadata": {},
     "output_type": "execute_result"
    }
   ],
   "source": [
    "mon"
   ]
  },
  {
   "cell_type": "code",
   "execution_count": null,
   "id": "8f2e2e2c-a3d1-44a9-bd6b-d6dc78a05dbc",
   "metadata": {},
   "outputs": [],
   "source": [
    "while days in weeks:\n",
    "            days = input('''요일을 선택하세요.\n",
    "ex) mon, tue, wed, thr, fri , sat, sun\n",
    ">>>''')\n",
    "                if days == 'mon':\n",
    "                print('현재일정 : ' , mon)\n",
    "                name = input('추가할 일정을 입력하세요. >>> ')\n",
    "                mon.append(name)"
   ]
  },
  {
   "cell_type": "code",
   "execution_count": 485,
   "id": "b0dfdb70-df8d-4596-87b3-c90ba9da10b8",
   "metadata": {},
   "outputs": [
    {
     "ename": "IndentationError",
     "evalue": "expected an indented block (Temp/ipykernel_14224/271328660.py, line 2)",
     "output_type": "error",
     "traceback": [
      "\u001b[1;36m  File \u001b[1;32m\"C:\\Users\\Admin\\AppData\\Local\\Temp/ipykernel_14224/271328660.py\"\u001b[1;36m, line \u001b[1;32m2\u001b[0m\n\u001b[1;33m    del word(i)\u001b[0m\n\u001b[1;37m    ^\u001b[0m\n\u001b[1;31mIndentationError\u001b[0m\u001b[1;31m:\u001b[0m expected an indented block\n"
     ]
    }
   ],
   "source": [
    "for i in range(12,15):\n",
    "print('word()"
   ]
  },
  {
   "cell_type": "code",
   "execution_count": 69,
   "id": "36a2d4e0-0d5a-406c-8dc5-d22797626b23",
   "metadata": {},
   "outputs": [
    {
     "name": "stdin",
     "output_type": "stream",
     "text": [
      "\n",
      "-------------------------------------------------------\n",
      "1.일정입력 2.일정수정 3.일정확인 4.일정삭제. 5.프로그램종료\n",
      "-------------------------------------------------------\n",
      "메뉴선택 >>>  1\n",
      "요일을 선택하세요.\n",
      "ex) mon, tue, wed, thr, fri , sat, sun\n",
      ">>> mon\n"
     ]
    },
    {
     "name": "stdout",
     "output_type": "stream",
     "text": [
      "현재일정 :  mon\n"
     ]
    },
    {
     "name": "stdin",
     "output_type": "stream",
     "text": [
      "추가할 일정을 입력하세요. >>>  e\n"
     ]
    },
    {
     "ename": "AttributeError",
     "evalue": "'str' object has no attribute 'append'",
     "output_type": "error",
     "traceback": [
      "\u001b[1;31m---------------------------------------------------------------------------\u001b[0m",
      "\u001b[1;31mAttributeError\u001b[0m                            Traceback (most recent call last)",
      "\u001b[1;32m~\\AppData\\Local\\Temp/ipykernel_14124/4253160538.py\u001b[0m in \u001b[0;36m<module>\u001b[1;34m\u001b[0m\n\u001b[0;32m     19\u001b[0m                 \u001b[1;32mwhile\u001b[0m \u001b[1;32mTrue\u001b[0m\u001b[1;33m:\u001b[0m\u001b[1;33m\u001b[0m\u001b[1;33m\u001b[0m\u001b[0m\n\u001b[0;32m     20\u001b[0m                     \u001b[0mname\u001b[0m \u001b[1;33m=\u001b[0m \u001b[0minput\u001b[0m\u001b[1;33m(\u001b[0m\u001b[1;34m'추가할 일정을 입력하세요. >>> '\u001b[0m\u001b[1;33m)\u001b[0m\u001b[1;33m\u001b[0m\u001b[1;33m\u001b[0m\u001b[0m\n\u001b[1;32m---> 21\u001b[1;33m                     \u001b[0mweeks\u001b[0m\u001b[1;33m[\u001b[0m\u001b[0mdic\u001b[0m\u001b[1;33m[\u001b[0m\u001b[0mdays\u001b[0m\u001b[1;33m]\u001b[0m\u001b[1;33m]\u001b[0m\u001b[1;33m.\u001b[0m\u001b[0mappend\u001b[0m\u001b[1;33m(\u001b[0m\u001b[0mname\u001b[0m\u001b[1;33m)\u001b[0m\u001b[1;33m\u001b[0m\u001b[1;33m\u001b[0m\u001b[0m\n\u001b[0m\u001b[0;32m     22\u001b[0m                     \u001b[1;32mif\u001b[0m \u001b[0mname\u001b[0m\u001b[1;33m.\u001b[0m\u001b[0mlower\u001b[0m\u001b[1;33m(\u001b[0m\u001b[1;33m)\u001b[0m \u001b[1;33m==\u001b[0m \u001b[1;34m'q'\u001b[0m\u001b[1;33m:\u001b[0m\u001b[1;33m\u001b[0m\u001b[1;33m\u001b[0m\u001b[0m\n\u001b[0;32m     23\u001b[0m                         \u001b[0mweeks\u001b[0m\u001b[1;33m[\u001b[0m\u001b[0mdic\u001b[0m\u001b[1;33m[\u001b[0m\u001b[0mdays\u001b[0m\u001b[1;33m]\u001b[0m\u001b[1;33m]\u001b[0m\u001b[1;33m.\u001b[0m\u001b[0mremove\u001b[0m\u001b[1;33m(\u001b[0m\u001b[1;34m'q'\u001b[0m\u001b[1;33m)\u001b[0m\u001b[1;33m\u001b[0m\u001b[1;33m\u001b[0m\u001b[0m\n",
      "\u001b[1;31mAttributeError\u001b[0m: 'str' object has no attribute 'append'"
     ]
    }
   ],
   "source": [
    "dic = {'mon':0,'tue':1,'wed':2,'thu':3,'fri':4,'sat':5,'sun':6}\n",
    "weeks = ['mon', 'tue', 'wed', 'thr', 'fri' , 'sat', 'sun']\n",
    "\n",
    "\n",
    "while True:\n",
    "    choice = input('''\n",
    "-------------------------------------------------------\n",
    "1.일정입력 2.일정수정 3.일정확인 4.일정삭제. 5.프로그램종료\n",
    "-------------------------------------------------------\n",
    "메뉴선택 >>> ''')\n",
    "    \n",
    "    if choice == '1':\n",
    "        while True:\n",
    "            days = input('''요일을 선택하세요.\n",
    "ex) mon, tue, wed, thr, fri , sat, sun\n",
    ">>>''')\n",
    "            if days == weeks[dic[days]] :\n",
    "                print('현재일정 : ' , weeks[dic[days]])\n",
    "                while True:\n",
    "                    name = input('추가할 일정을 입력하세요. >>> ')\n",
    "                    weeks[dic[days]].append(name)\n",
    "                    if name.lower() == 'q':\n",
    "                        weeks[dic[days]].remove('q')\n",
    "                        print(\"입력 완료\")\n",
    "                        print(weeks[dic[days]])\n",
    "                        break\n",
    "                \n",
    "    elif choice == '2':\n",
    "        while True:\n",
    "            days = input('''요일을 선택하세요.\n",
    "ex) mon, tue, wed, thr, fri , sat, sun\n",
    ">>>''')\n",
    "            if days == weeks[dic[days]] :\n",
    "                print('현재일정 : ' , weeks[dic[days]])\n",
    "                weeks[dic[days]] = []\n",
    "                while True:\n",
    "                    name = input('수정할 요일을 입력하세요. >>> ')\n",
    "                    del weeks[dic[name]]\n",
    "                    if name.lower() == 'q':\n",
    "                        weeks[dic[days]].remove('q')\n",
    "                        print(\"입력 완료\")\n",
    "                        print(weeks[dic[days]])\n",
    "                        break\n",
    "    \n",
    "    elif choice == '3':\n",
    "        print('------ menu ------')\n",
    "        for item in sorted(menu.items(),key=lambda x:x[1],reverse=True):\n",
    "            print(f'{item[0]} : {item[1]:,}') # f문자열포맷팅으로 천단위구분기호 넣는 기능 알아놓기.(점프투 파이썬에 이기능은 빠져있음)\n",
    "            \n",
    "    elif choice == '4':\n",
    "        print('현재메뉴 : ' , list(menu.keys()))\n",
    "        name = ''\n",
    "        while not name in menu.keys():\n",
    "            name = input('삭제하고자 하는 메뉴명을 입력해주세요. >>> ')\n",
    "        del menu[name]\n",
    "\n",
    "    elif choice == '5':\n",
    "        print('커피메뉴 관리프로그램을 종료합니다.')\n",
    "        f = open('menu.json','w') #지금은 menu.json파일을 만들어놨으므로 오류가 안생기지만 json 파일없이 맨윗줄에서 json을 로드 해버리면 오류생길수 있음. 따라서 미리 open을 한번 해주고 load 해줘야함.\n",
    "        json.dump(menu,f)\n",
    "        f.close()\n",
    "        break\n",
    "    \n",
    "    else:\n",
    "        print('1~5까지의 숫자를 입력하세요.\\n')\n",
    "    "
   ]
  },
  {
   "cell_type": "code",
   "execution_count": 72,
   "id": "b0571f14-def4-4657-ab40-1ab4ae6b9e8f",
   "metadata": {},
   "outputs": [
    {
     "data": {
      "text/plain": [
       "str"
      ]
     },
     "execution_count": 72,
     "metadata": {},
     "output_type": "execute_result"
    }
   ],
   "source": [
    "type(weeks[0])"
   ]
  },
  {
   "cell_type": "code",
   "execution_count": 66,
   "id": "fca6f67e-2159-4ae5-a827-ed8e1b41ba87",
   "metadata": {},
   "outputs": [
    {
     "ename": "KeyError",
     "evalue": "0",
     "output_type": "error",
     "traceback": [
      "\u001b[1;31m---------------------------------------------------------------------------\u001b[0m",
      "\u001b[1;31mKeyError\u001b[0m                                  Traceback (most recent call last)",
      "\u001b[1;32m~\\AppData\\Local\\Temp/ipykernel_14124/3967959222.py\u001b[0m in \u001b[0;36m<module>\u001b[1;34m\u001b[0m\n\u001b[1;32m----> 1\u001b[1;33m \u001b[1;32mdel\u001b[0m \u001b[0mweeks\u001b[0m\u001b[1;33m[\u001b[0m\u001b[0mdic\u001b[0m\u001b[1;33m[\u001b[0m\u001b[1;36m0\u001b[0m\u001b[1;33m]\u001b[0m\u001b[1;33m]\u001b[0m\u001b[1;33m\u001b[0m\u001b[1;33m\u001b[0m\u001b[0m\n\u001b[0m",
      "\u001b[1;31mKeyError\u001b[0m: 0"
     ]
    }
   ],
   "source": [
    "del weeks[dic[0]]"
   ]
  },
  {
   "cell_type": "code",
   "execution_count": 63,
   "id": "5f4ecd98-eaf9-45a9-afee-f60ab6efe5a6",
   "metadata": {},
   "outputs": [
    {
     "data": {
      "text/plain": [
       "[['컴1', '컴2'], 'wed', 'thr', 'fri', 'sat', 'sun']"
      ]
     },
     "execution_count": 63,
     "metadata": {},
     "output_type": "execute_result"
    }
   ],
   "source": [
    "weeks"
   ]
  },
  {
   "cell_type": "code",
   "execution_count": null,
   "id": "76b8770e-d5cd-4f73-b485-d4986f6dd135",
   "metadata": {},
   "outputs": [],
   "source": []
  }
 ],
 "metadata": {
  "kernelspec": {
   "display_name": "Python 3 (ipykernel)",
   "language": "python",
   "name": "python3"
  },
  "language_info": {
   "codemirror_mode": {
    "name": "ipython",
    "version": 3
   },
   "file_extension": ".py",
   "mimetype": "text/x-python",
   "name": "python",
   "nbconvert_exporter": "python",
   "pygments_lexer": "ipython3",
   "version": "3.9.7"
  }
 },
 "nbformat": 4,
 "nbformat_minor": 5
}
