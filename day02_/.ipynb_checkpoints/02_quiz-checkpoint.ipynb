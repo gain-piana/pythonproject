{
 "cells": [
  {
   "cell_type": "raw",
   "id": "75edd72c-03a3-4618-96d1-56ca9a25cc17",
   "metadata": {},
   "source": [
    "quiz 01>\n",
    "주민등록번호 14자리를 입력받아서 성별을 체크합니다.\n",
    "프로그램 종료는 (q,Q)를 누를때 까지 반복처리합니다.\n",
    "\n",
    "입력예 : 123456-1234567\n",
    "조건처리 : - 길이값 체크\n",
    "          - 성별 체크 (가능값:1,2,3,4)\n",
    "출력 : 여성입니다. or 남성입니다."
   ]
  },
  {
   "cell_type": "code",
   "execution_count": 1,
   "id": "c504ca98-1bb1-466f-9db8-ed43c9732dbc",
   "metadata": {},
   "outputs": [
    {
     "name": "stdin",
     "output_type": "stream",
     "text": [
      "주민등록번호 14자리를 입력하세요. '-'도 포함해서 입력 123556-1234567\n"
     ]
    }
   ],
   "source": [
    "a = input(\"주민등록번호 13자리를 입력하세요. '-'도 포함해서 입력\")"
   ]
  },
  {
   "cell_type": "code",
   "execution_count": 312,
   "id": "5b176fdf-854b-49c3-b9a8-fb61c8bf1bfe",
   "metadata": {
    "tags": []
   },
   "outputs": [
    {
     "name": "stdin",
     "output_type": "stream",
     "text": [
      "주민등록번호 13자리를 입력하세요. '-'도 포함해서 입력\n",
      " Q\n"
     ]
    },
    {
     "name": "stdout",
     "output_type": "stream",
     "text": [
      "종료합니다.\n"
     ]
    }
   ],
   "source": [
    "a = 1\n",
    "\n",
    "while a:\n",
    "    a = input(\"주민등록번호 13자리를 입력하세요. '-'도 포함해서 입력\\n\")\n",
    "    \n",
    "    if len(a) ==14 and (a[7] == '1' or a[7] == '3') and a[6] == '-':\n",
    "        print('남성입니다.')\n",
    "    \n",
    "    elif len(a)==14 and (a[7] == '2' or a[7] == '4') and a[6] == '-':\n",
    "        print('여성입니다.')\n",
    "               \n",
    "    elif len(a)!=14 and a not in ['q',  'Q']:\n",
    "        print('주민등록번호가 14자리가아닌 %d 자리입니다' % len(a))\n",
    "    \n",
    "    elif a == 'q' or a == 'Q':\n",
    "        print('종료합니다.')\n",
    "        break\n",
    "        \n",
    "    else:\n",
    "        print('잘못된 주민등록번호 형식입니다. 다시 입력해주세요.')"
   ]
  },
  {
   "cell_type": "code",
   "execution_count": 93,
   "id": "3918704b-005f-41e5-8892-30a761a42bc3",
   "metadata": {
    "tags": []
   },
   "outputs": [
    {
     "name": "stdin",
     "output_type": "stream",
     "text": [
      "주민등록번호 13자리를 입력하세요. '-'도 포함해서 입력\n",
      " Q\n"
     ]
    },
    {
     "name": "stdout",
     "output_type": "stream",
     "text": [
      "주민등록번호가 14자리가아닌 1 자리입니다\n",
      "주민등록번호가 14자리가아닌 1 자리입니다\n"
     ]
    },
    {
     "ename": "KeyboardInterrupt",
     "evalue": "Interrupted by user",
     "output_type": "error",
     "traceback": [
      "\u001b[1;31m---------------------------------------------------------------------------\u001b[0m",
      "\u001b[1;31mKeyboardInterrupt\u001b[0m                         Traceback (most recent call last)",
      "\u001b[1;32m~\\AppData\\Local\\Temp/ipykernel_10488/1779099875.py\u001b[0m in \u001b[0;36m<module>\u001b[1;34m\u001b[0m\n\u001b[0;32m      2\u001b[0m \u001b[1;33m\u001b[0m\u001b[0m\n\u001b[0;32m      3\u001b[0m \u001b[1;32mwhile\u001b[0m \u001b[0ma\u001b[0m\u001b[1;33m:\u001b[0m\u001b[1;33m\u001b[0m\u001b[1;33m\u001b[0m\u001b[0m\n\u001b[1;32m----> 4\u001b[1;33m     \u001b[0ma\u001b[0m \u001b[1;33m=\u001b[0m \u001b[0minput\u001b[0m\u001b[1;33m(\u001b[0m\u001b[1;34m\"주민등록번호 13자리를 입력하세요. '-'도 포함해서 입력\\n\"\u001b[0m\u001b[1;33m)\u001b[0m\u001b[1;33m\u001b[0m\u001b[1;33m\u001b[0m\u001b[0m\n\u001b[0m\u001b[0;32m      5\u001b[0m \u001b[1;33m\u001b[0m\u001b[0m\n\u001b[0;32m      6\u001b[0m     \u001b[1;32mif\u001b[0m \u001b[0mlen\u001b[0m\u001b[1;33m(\u001b[0m\u001b[0ma\u001b[0m\u001b[1;33m)\u001b[0m \u001b[1;33m==\u001b[0m\u001b[1;36m14\u001b[0m \u001b[1;32mand\u001b[0m \u001b[1;33m(\u001b[0m\u001b[0ma\u001b[0m\u001b[1;33m[\u001b[0m\u001b[1;36m7\u001b[0m\u001b[1;33m]\u001b[0m \u001b[1;33m==\u001b[0m \u001b[1;34m'1'\u001b[0m \u001b[1;32mor\u001b[0m \u001b[0ma\u001b[0m\u001b[1;33m[\u001b[0m\u001b[1;36m7\u001b[0m\u001b[1;33m]\u001b[0m \u001b[1;33m==\u001b[0m \u001b[1;34m'3'\u001b[0m\u001b[1;33m)\u001b[0m \u001b[1;32mand\u001b[0m \u001b[0ma\u001b[0m\u001b[1;33m[\u001b[0m\u001b[1;36m6\u001b[0m\u001b[1;33m]\u001b[0m \u001b[1;33m==\u001b[0m \u001b[1;34m'-'\u001b[0m\u001b[1;33m:\u001b[0m\u001b[1;33m\u001b[0m\u001b[1;33m\u001b[0m\u001b[0m\n",
      "\u001b[1;32m~\\anaconda3\\lib\\site-packages\\ipykernel\\kernelbase.py\u001b[0m in \u001b[0;36mraw_input\u001b[1;34m(self, prompt)\u001b[0m\n\u001b[0;32m   1004\u001b[0m                 \u001b[1;34m\"raw_input was called, but this frontend does not support input requests.\"\u001b[0m\u001b[1;33m\u001b[0m\u001b[1;33m\u001b[0m\u001b[0m\n\u001b[0;32m   1005\u001b[0m             )\n\u001b[1;32m-> 1006\u001b[1;33m         return self._input_request(\n\u001b[0m\u001b[0;32m   1007\u001b[0m             \u001b[0mstr\u001b[0m\u001b[1;33m(\u001b[0m\u001b[0mprompt\u001b[0m\u001b[1;33m)\u001b[0m\u001b[1;33m,\u001b[0m\u001b[1;33m\u001b[0m\u001b[1;33m\u001b[0m\u001b[0m\n\u001b[0;32m   1008\u001b[0m             \u001b[0mself\u001b[0m\u001b[1;33m.\u001b[0m\u001b[0m_parent_ident\u001b[0m\u001b[1;33m[\u001b[0m\u001b[1;34m\"shell\"\u001b[0m\u001b[1;33m]\u001b[0m\u001b[1;33m,\u001b[0m\u001b[1;33m\u001b[0m\u001b[1;33m\u001b[0m\u001b[0m\n",
      "\u001b[1;32m~\\anaconda3\\lib\\site-packages\\ipykernel\\kernelbase.py\u001b[0m in \u001b[0;36m_input_request\u001b[1;34m(self, prompt, ident, parent, password)\u001b[0m\n\u001b[0;32m   1049\u001b[0m             \u001b[1;32mexcept\u001b[0m \u001b[0mKeyboardInterrupt\u001b[0m\u001b[1;33m:\u001b[0m\u001b[1;33m\u001b[0m\u001b[1;33m\u001b[0m\u001b[0m\n\u001b[0;32m   1050\u001b[0m                 \u001b[1;31m# re-raise KeyboardInterrupt, to truncate traceback\u001b[0m\u001b[1;33m\u001b[0m\u001b[1;33m\u001b[0m\u001b[0m\n\u001b[1;32m-> 1051\u001b[1;33m                 \u001b[1;32mraise\u001b[0m \u001b[0mKeyboardInterrupt\u001b[0m\u001b[1;33m(\u001b[0m\u001b[1;34m\"Interrupted by user\"\u001b[0m\u001b[1;33m)\u001b[0m \u001b[1;32mfrom\u001b[0m \u001b[1;32mNone\u001b[0m\u001b[1;33m\u001b[0m\u001b[1;33m\u001b[0m\u001b[0m\n\u001b[0m\u001b[0;32m   1052\u001b[0m             \u001b[1;32mexcept\u001b[0m \u001b[0mException\u001b[0m\u001b[1;33m:\u001b[0m\u001b[1;33m\u001b[0m\u001b[1;33m\u001b[0m\u001b[0m\n\u001b[0;32m   1053\u001b[0m                 \u001b[0mself\u001b[0m\u001b[1;33m.\u001b[0m\u001b[0mlog\u001b[0m\u001b[1;33m.\u001b[0m\u001b[0mwarning\u001b[0m\u001b[1;33m(\u001b[0m\u001b[1;34m\"Invalid Message:\"\u001b[0m\u001b[1;33m,\u001b[0m \u001b[0mexc_info\u001b[0m\u001b[1;33m=\u001b[0m\u001b[1;32mTrue\u001b[0m\u001b[1;33m)\u001b[0m\u001b[1;33m\u001b[0m\u001b[1;33m\u001b[0m\u001b[0m\n",
      "\u001b[1;31mKeyboardInterrupt\u001b[0m: Interrupted by user"
     ]
    }
   ],
   "source": [
    "a = 1\n",
    "\n",
    "while a:\n",
    "    a = input(\"주민등록번호 13자리를 입력하세요. '-'도 포함해서 입력\\n\")\n",
    "    \n",
    "    if len(a) ==14 and (a[7] == '1' or a[7] == '3') and a[6] == '-':\n",
    "        print('남성입니다.')\n",
    "    \n",
    "    elif len(a)==14 and (a[7] == '2' or a[7] == '4') and a[6] == '-':\n",
    "        print('여성입니다.')\n",
    "               \n",
    "    elif len(a)!=14 and a != ('q' or 'Q'):\n",
    "        print('주민등록번호가 14자리가아닌 %d 자리입니다' % len(a))\n",
    "    \n",
    "    elif a == 'q' or a == 'Q':\n",
    "        print('종료합니다.')\n",
    "        break\n",
    "        \n",
    "    else:\n",
    "        print('잘못된 주민등록번호 형식입니다. 다시 입력해주세요.')"
   ]
  },
  {
   "cell_type": "raw",
   "id": "46b033a3-dc9b-490b-8f3b-8e7126262e22",
   "metadata": {
    "tags": []
   },
   "source": [
    "quiz 02>\n",
    "로또 번호 추출기\n",
    "총 5셋트의 번호를 추출합니다.\n",
    "한 셋트당 번호는 6개 입니다.\n",
    "번호는 1~45 사이의 번호만 가능합니다.\n",
    "번호는 중복되면 안됩니다.\n",
    "번호를 출력시 오름차순으로 정렬해서 출력하니다."
   ]
  },
  {
   "cell_type": "code",
   "execution_count": 97,
   "id": "73c086a7-bea7-47f4-8cec-d1a9fee8f6b6",
   "metadata": {},
   "outputs": [],
   "source": [
    "import random"
   ]
  },
  {
   "cell_type": "code",
   "execution_count": 309,
   "id": "07b200c8-e4cf-4f47-8caf-1dbd9892db34",
   "metadata": {},
   "outputs": [
    {
     "data": {
      "text/plain": [
       "31"
      ]
     },
     "execution_count": 309,
     "metadata": {},
     "output_type": "execute_result"
    }
   ],
   "source": [
    "random.randint(1,45)"
   ]
  },
  {
   "cell_type": "code",
   "execution_count": 707,
   "id": "6ac747c0-5c1d-471f-a924-8b99d3fd5fb7",
   "metadata": {},
   "outputs": [
    {
     "name": "stdout",
     "output_type": "stream",
     "text": [
      "[10, 13, 15, 16, 20, 24, 40]\n",
      "[1, 9, 24, 33, 36, 37, 39]\n",
      "[6, 9, 18, 22, 28, 34, 36]\n",
      "[14, 22, 28, 30, 38, 39, 42]\n",
      "[4, 11, 17, 28, 29, 33, 37]\n"
     ]
    }
   ],
   "source": [
    "count = 0\n",
    "while count <= 4:\n",
    "    lotto = [random.randint(1,45), random.randint(1,45), random.randint(1,45), random.randint(1,45), random.randint(1,45), random.randint(1,45), random.randint(1,45)]\n",
    "    lotto.sort()\n",
    "    if lotto[1] not in [lotto[2], lotto[3], lotto[4], lotto[5], lotto[6]] and lotto[2] not in [lotto[1], lotto[3], lotto[4], lotto[5], lotto[6]] and lotto[3] not in [lotto[2], lotto[1], lotto[4], lotto[5], lotto[6]] and lotto[4] not in [lotto[2], lotto[3], lotto[1], lotto[5], lotto[6]] and lotto[5] not in [lotto[2], lotto[3], lotto[4], lotto[1], lotto[6]] and lotto[6] not in [lotto[2], lotto[3], lotto[4], lotto[5], lotto[1]]:\n",
    "        print(lotto)\n",
    "        count = count + 1"
   ]
  },
  {
   "cell_type": "code",
   "execution_count": 705,
   "id": "6463dd72-8a54-461a-83b1-cc76dce3b9fd",
   "metadata": {},
   "outputs": [
    {
     "name": "stdout",
     "output_type": "stream",
     "text": [
      "[8, 9, 11, 13, 17, 35]\n",
      "[11, 23, 26, 30, 39, 40]\n",
      "[8, 11, 18, 28, 29, 32]\n",
      "[6, 10, 16, 18, 22, 30]\n",
      "[9, 10, 25, 33, 41, 45]\n"
     ]
    }
   ],
   "source": [
    "for i in range(5):\n",
    "    lotto = [0, 0, 0, 0, 0, 0]\n",
    "    for x in range(6):\n",
    "        num = 0\n",
    "        while (num in lotto):\n",
    "            num = random.randint(1,45)\n",
    "        lotto[x]=num\n",
    "    lotto.sort()\n",
    "    print(lotto)"
   ]
  },
  {
   "cell_type": "code",
   "execution_count": 720,
   "id": "5be02eb7-304e-4bd7-bf95-4ad3cbff444d",
   "metadata": {},
   "outputs": [
    {
     "name": "stdout",
     "output_type": "stream",
     "text": [
      "[2, 9, 10, 24, 29, 42]\n",
      "[17, 22, 32, 37, 42, 43]\n",
      "[1, 6, 16, 24, 25, 27]\n",
      "[19, 20, 28, 38, 40, 44]\n",
      "[1, 16, 25, 38, 40, 41]\n"
     ]
    }
   ],
   "source": [
    "for i in range(5):\n",
    "    lotto = random.sample(range(1,46),6)\n",
    "    lotto.sort()\n",
    "    print(lotto)"
   ]
  },
  {
   "cell_type": "raw",
   "id": "6f164c18-31af-49eb-a579-4986376e635a",
   "metadata": {},
   "source": [
    "quiz 03> 커피메뉴 관리프로그램\n",
    "데이터 저장은 딕셔너리로.. {'메뉴명':가격,'coffe':2000}\n",
    "프로그램에서 사용할 메뉴\n",
    " 1.메뉴입력 2.메뉴수정 3.메뉴목록 4.메뉴삭제 5.프로그램종료\n",
    "- 메뉴입력: 메뉴명과 가격을 입력받아서 저장\n",
    "- 메뉴수정: 메뉴명을 확인하고 있는 목록 메뉴에 가격을 입력받아 수정\n",
    "- 메뉴목록: 저장된 메뉴명과 가격을 출력(천단위 구분기호 표기), 메뉴명 순서대로 출력\n",
    "- 메뉴삭제: 메뉴명을 확인하고 있는 메뉴에서 삭제\n",
    "- 프로그램 종료: 프로그램을 종료하는 메시지를 출력하고 종료\n",
    "- 메뉴1~5까지만 입력받고 다른 값이 들어오면 관련 에러 메시지를 출력한다.\n",
    "- 가격은 숫자로 입력해야됨"
   ]
  },
  {
   "cell_type": "code",
   "execution_count": 721,
   "id": "af961b8c-0b4f-4dd3-b685-6fd4e7f1c16f",
   "metadata": {},
   "outputs": [],
   "source": [
    "# sorted()\n",
    "list1=[5,2,3,1,4]\n",
    "dict1={'아이스아메리카노':3000,'라떼':4000,'코코아':3500}"
   ]
  },
  {
   "cell_type": "code",
   "execution_count": 722,
   "id": "7ce00d1e-a9d4-40c9-9911-6b6f71311350",
   "metadata": {},
   "outputs": [
    {
     "data": {
      "text/plain": [
       "[1, 2, 3, 4, 5]"
      ]
     },
     "execution_count": 722,
     "metadata": {},
     "output_type": "execute_result"
    }
   ],
   "source": [
    "sorted(list1)"
   ]
  },
  {
   "cell_type": "code",
   "execution_count": 723,
   "id": "86690b6a-655d-432d-b7e4-b308d443a9aa",
   "metadata": {},
   "outputs": [
    {
     "data": {
      "text/plain": [
       "[5, 2, 3, 1, 4]"
      ]
     },
     "execution_count": 723,
     "metadata": {},
     "output_type": "execute_result"
    }
   ],
   "source": [
    "list1"
   ]
  },
  {
   "cell_type": "code",
   "execution_count": 725,
   "id": "2f255983-8a86-49bf-bf83-e37f904d067b",
   "metadata": {},
   "outputs": [
    {
     "data": {
      "text/plain": [
       "['라떼', '아이스아메리카노', '코코아']"
      ]
     },
     "execution_count": 725,
     "metadata": {},
     "output_type": "execute_result"
    }
   ],
   "source": [
    "sorted(dict1)"
   ]
  },
  {
   "cell_type": "code",
   "execution_count": 733,
   "id": "6be433ea-15cc-4b1f-87f9-aee85f3b9a16",
   "metadata": {},
   "outputs": [
    {
     "data": {
      "text/plain": [
       "[('아이스아메리카노', 3000), ('코코아', 3500), ('라떼', 4000)]"
      ]
     },
     "execution_count": 733,
     "metadata": {},
     "output_type": "execute_result"
    }
   ],
   "source": [
    "sorted(dict1.items(),key=lambda data:data[1])"
   ]
  },
  {
   "cell_type": "code",
   "execution_count": 762,
   "id": "4f85c21b-dd43-4c62-b340-674e3723d152",
   "metadata": {},
   "outputs": [],
   "source": [
    "student_tu = [('john','A',15),\n",
    "              ('jane','B',12),\n",
    "              ('dave','B',10)]"
   ]
  },
  {
   "cell_type": "code",
   "execution_count": 763,
   "id": "e81503b6-f46c-462d-8daf-d774355a4b3d",
   "metadata": {},
   "outputs": [
    {
     "data": {
      "text/plain": [
       "[('dave', 'B', 10), ('jane', 'B', 12), ('john', 'A', 15)]"
      ]
     },
     "execution_count": 763,
     "metadata": {},
     "output_type": "execute_result"
    }
   ],
   "source": [
    "sorted(student_tu)"
   ]
  },
  {
   "cell_type": "code",
   "execution_count": 768,
   "id": "e7c47ed5-fa82-413d-b400-d9bda1444cd9",
   "metadata": {},
   "outputs": [
    {
     "data": {
      "text/plain": [
       "[('john', 'A', 15), ('jane', 'B', 12), ('dave', 'B', 10)]"
      ]
     },
     "execution_count": 768,
     "metadata": {},
     "output_type": "execute_result"
    }
   ],
   "source": [
    "sorted(student_tu,key=lambda x:x[1])"
   ]
  },
  {
   "cell_type": "raw",
   "id": "a8fbad09-f894-4b4a-b7a3-775f86d15972",
   "metadata": {},
   "source": [
    "quiz 03> 커피메뉴 관리프로그램\n",
    "데이터 저장은 딕셔너리로.. {'메뉴명':가격,'coffe':2000}\n",
    "프로그램에서 사용할 메뉴\n",
    " 1.메뉴입력 2.메뉴수정 3.메뉴목록 4.메뉴삭제 5.프로그램종료\n",
    "- 메뉴입력: 메뉴명과 가격을 입력받아서 저장\n",
    "- 메뉴수정: 메뉴명을 확인하고 있는 목록 메뉴에 가격을 입력받아 수정\n",
    "- 메뉴목록: 저장된 메뉴명과 가격을 출력(천단위 구분기호 표기), 메뉴명 순서대로 출력\n",
    "- 메뉴삭제: 메뉴명을 확인하고 있는 메뉴에서 삭제\n",
    "- 프로그램 종료: 프로그램을 종료하는 메시지를 출력하고 종료\n",
    "- 메뉴1~5까지만 입력받고 다른 값이 들어오면 관련 에러 메시지를 출력한다.\n",
    "- 가격은 숫자로 입력해야됨"
   ]
  },
  {
   "cell_type": "code",
   "execution_count": null,
   "id": "6aeaa6cf-54f9-4aa0-9ae3-5e6e1439ba6c",
   "metadata": {},
   "outputs": [
    {
     "name": "stdin",
     "output_type": "stream",
     "text": [
      "1.메뉴입력 2.메뉴수정 3.메뉴목록 4.메뉴삭제. 5.프로그램종료 >>>  1\n"
     ]
    },
    {
     "name": "stdout",
     "output_type": "stream",
     "text": [
      "메뉴 :  {}\n"
     ]
    },
    {
     "name": "stdin",
     "output_type": "stream",
     "text": [
      "메뉴명을 입력하세요. 아메\n",
      "가격을 입력하세요. 3000\n"
     ]
    },
    {
     "name": "stdout",
     "output_type": "stream",
     "text": [
      "메뉴 :  {'아메': '3,000'}\n"
     ]
    }
   ],
   "source": [
    "a = input('1.메뉴입력 2.메뉴수정 3.메뉴목록 4.메뉴삭제. 5.프로그램종료 >>> ')\n",
    "a1 = {0:0}\n",
    "del a1[0]\n",
    "while True:\n",
    "    if a == '1':\n",
    "        print('메뉴 : ' , a1)\n",
    "        a11 = input('메뉴명을 입력하세요.')\n",
    "        a12 = input('가격을 입력하세요.')\n",
    "        a1[a11] = format(int(a12),',d')\n",
    "        print('메뉴 : ' , a1)\n",
    "        a = input('1.메뉴입력 2.메뉴수정 3.메뉴목록 4.메뉴삭제. 5.프로그램종료 >>> ')\n",
    "        \n",
    "    elif a == '2':\n",
    "        print('메뉴 : ' , a1)\n",
    "        a21 = input('가격을 수정할 메뉴를 입력해주세요. >>> ')\n",
    "        a22 = input('새로운 가격을 입력해주세요. >>> ')\n",
    "        a1[a21] = format(int(a22),',d')\n",
    "        print('메뉴 : ' , a1)\n",
    "        a = input('1.메뉴입력 2.메뉴수정 3.메뉴목록 4.메뉴삭제. 5.프로그램종료 >>> ')\n",
    "        \n",
    "    elif a == '5':\n",
    "        break"
   ]
  },
  {
   "cell_type": "code",
   "execution_count": 813,
   "id": "523d805e-bc7e-4c52-aca1-732b0e24cf26",
   "metadata": {},
   "outputs": [
    {
     "data": {
      "text/plain": [
       "{'아메라카노': '4,000', '말차': '34,000'}"
      ]
     },
     "execution_count": 813,
     "metadata": {},
     "output_type": "execute_result"
    }
   ],
   "source": [
    "a1"
   ]
  },
  {
   "cell_type": "code",
   "execution_count": null,
   "id": "bbf4a097-5f74-4914-95f5-a3c393d0fae7",
   "metadata": {},
   "outputs": [],
   "source": []
  }
 ],
 "metadata": {
  "kernelspec": {
   "display_name": "Python 3 (ipykernel)",
   "language": "python",
   "name": "python3"
  },
  "language_info": {
   "codemirror_mode": {
    "name": "ipython",
    "version": 3
   },
   "file_extension": ".py",
   "mimetype": "text/x-python",
   "name": "python",
   "nbconvert_exporter": "python",
   "pygments_lexer": "ipython3",
   "version": "3.9.7"
  }
 },
 "nbformat": 4,
 "nbformat_minor": 5
}
